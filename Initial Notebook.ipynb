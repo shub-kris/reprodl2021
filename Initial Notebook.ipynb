{
 "cells": [
  {
   "cell_type": "markdown",
   "id": "41941c58",
   "metadata": {},
   "source": [
    "## Reproducible Deep Learning (PhD course, Data Science)\n",
    "### Lecture 1: deep learning recap"
   ]
  },
  {
   "cell_type": "markdown",
   "id": "560e6bc9",
   "metadata": {},
   "source": [
    "We will code a simple audio classification model (a convolutional neural network) for the ESC-50 dataset: https://github.com/karolpiczak/ESC-50. The aim is to recap some deep learning concepts, and have a working notebook to use as starting point for the next exercises."
   ]
  },
  {
   "cell_type": "markdown",
   "id": "101dbfc5",
   "metadata": {},
   "source": [
    "**Setup the machine**:\n",
    "1. Follow the instructions from here: https://github.com/sscardapane/reprodl2021#local-set-up\n",
    "2. Download the ESC-50 dataset inside a 'data' folder."
   ]
  },
  {
   "cell_type": "code",
   "execution_count": 1,
   "id": "01c704b1",
   "metadata": {},
   "outputs": [
    {
     "name": "stderr",
     "output_type": "stream",
     "text": [
      "C:\\Users\\Maverick\\Anaconda3\\envs\\reprodl\\lib\\site-packages\\torchaudio\\extension\\extension.py:13: UserWarning: torchaudio C++ extension is not available.\n",
      "  warnings.warn('torchaudio C++ extension is not available.')\n"
     ]
    }
   ],
   "source": [
    "import torch, torchaudio\n",
    "from torch import nn\n",
    "from torch.nn import functional as F"
   ]
  },
  {
   "cell_type": "code",
   "execution_count": 2,
   "id": "76a5e948",
   "metadata": {},
   "outputs": [],
   "source": [
    "import pytorch_lightning as pl\n",
    "from pytorch_lightning.metrics import functional"
   ]
  },
  {
   "cell_type": "code",
   "execution_count": 3,
   "id": "1f355c83",
   "metadata": {},
   "outputs": [],
   "source": [
    "from pathlib import Path\n",
    "import matplotlib.pyplot as plt\n",
    "import pandas as pd"
   ]
  },
  {
   "cell_type": "code",
   "execution_count": 4,
   "id": "e3b39379",
   "metadata": {},
   "outputs": [
    {
     "data": {
      "text/plain": [
       "True"
      ]
     },
     "execution_count": 4,
     "metadata": {},
     "output_type": "execute_result"
    }
   ],
   "source": [
    "torch.cuda.is_available()"
   ]
  },
  {
   "cell_type": "markdown",
   "id": "95517d77",
   "metadata": {},
   "source": [
    "### Step 1: Some experiments in audio loading and transformation"
   ]
  },
  {
   "cell_type": "markdown",
   "id": "a5cd717c",
   "metadata": {},
   "source": [
    "The code in this section is just for experimentation, and will be removed when porting to a script."
   ]
  },
  {
   "cell_type": "code",
   "execution_count": 5,
   "id": "0bbb27a1",
   "metadata": {},
   "outputs": [],
   "source": [
    "# Substitute this with your actual path. This is the root folder of ESC-50, where\n",
    "# you can find the subfolders 'audio' and 'meta'.\n",
    "datapath = Path('data/ESC-50')"
   ]
  },
  {
   "cell_type": "code",
   "execution_count": 6,
   "id": "8b0f312b",
   "metadata": {},
   "outputs": [
    {
     "data": {
      "text/plain": [
       "True"
      ]
     },
     "execution_count": 6,
     "metadata": {},
     "output_type": "execute_result"
    }
   ],
   "source": [
    "datapath.exists()"
   ]
  },
  {
   "cell_type": "code",
   "execution_count": 7,
   "id": "e4acc956",
   "metadata": {},
   "outputs": [],
   "source": [
    "# Using Path is fundamental to have reproducible code across different operating systems.\n",
    "csv = pd.read_csv(datapath / Path('meta/esc50.csv'))"
   ]
  },
  {
   "cell_type": "code",
   "execution_count": 8,
   "id": "739a8c6c",
   "metadata": {},
   "outputs": [
    {
     "data": {
      "text/html": [
       "<div>\n",
       "<style scoped>\n",
       "    .dataframe tbody tr th:only-of-type {\n",
       "        vertical-align: middle;\n",
       "    }\n",
       "\n",
       "    .dataframe tbody tr th {\n",
       "        vertical-align: top;\n",
       "    }\n",
       "\n",
       "    .dataframe thead th {\n",
       "        text-align: right;\n",
       "    }\n",
       "</style>\n",
       "<table border=\"1\" class=\"dataframe\">\n",
       "  <thead>\n",
       "    <tr style=\"text-align: right;\">\n",
       "      <th></th>\n",
       "      <th>filename</th>\n",
       "      <th>fold</th>\n",
       "      <th>target</th>\n",
       "      <th>category</th>\n",
       "      <th>esc10</th>\n",
       "      <th>src_file</th>\n",
       "      <th>take</th>\n",
       "    </tr>\n",
       "  </thead>\n",
       "  <tbody>\n",
       "    <tr>\n",
       "      <th>0</th>\n",
       "      <td>1-100032-A-0.wav</td>\n",
       "      <td>1</td>\n",
       "      <td>0</td>\n",
       "      <td>dog</td>\n",
       "      <td>True</td>\n",
       "      <td>100032</td>\n",
       "      <td>A</td>\n",
       "    </tr>\n",
       "    <tr>\n",
       "      <th>1</th>\n",
       "      <td>1-100038-A-14.wav</td>\n",
       "      <td>1</td>\n",
       "      <td>14</td>\n",
       "      <td>chirping_birds</td>\n",
       "      <td>False</td>\n",
       "      <td>100038</td>\n",
       "      <td>A</td>\n",
       "    </tr>\n",
       "    <tr>\n",
       "      <th>2</th>\n",
       "      <td>1-100210-A-36.wav</td>\n",
       "      <td>1</td>\n",
       "      <td>36</td>\n",
       "      <td>vacuum_cleaner</td>\n",
       "      <td>False</td>\n",
       "      <td>100210</td>\n",
       "      <td>A</td>\n",
       "    </tr>\n",
       "    <tr>\n",
       "      <th>3</th>\n",
       "      <td>1-100210-B-36.wav</td>\n",
       "      <td>1</td>\n",
       "      <td>36</td>\n",
       "      <td>vacuum_cleaner</td>\n",
       "      <td>False</td>\n",
       "      <td>100210</td>\n",
       "      <td>B</td>\n",
       "    </tr>\n",
       "    <tr>\n",
       "      <th>4</th>\n",
       "      <td>1-101296-A-19.wav</td>\n",
       "      <td>1</td>\n",
       "      <td>19</td>\n",
       "      <td>thunderstorm</td>\n",
       "      <td>False</td>\n",
       "      <td>101296</td>\n",
       "      <td>A</td>\n",
       "    </tr>\n",
       "  </tbody>\n",
       "</table>\n",
       "</div>"
      ],
      "text/plain": [
       "            filename  fold  target        category  esc10  src_file take\n",
       "0   1-100032-A-0.wav     1       0             dog   True    100032    A\n",
       "1  1-100038-A-14.wav     1      14  chirping_birds  False    100038    A\n",
       "2  1-100210-A-36.wav     1      36  vacuum_cleaner  False    100210    A\n",
       "3  1-100210-B-36.wav     1      36  vacuum_cleaner  False    100210    B\n",
       "4  1-101296-A-19.wav     1      19    thunderstorm  False    101296    A"
      ]
     },
     "execution_count": 8,
     "metadata": {},
     "output_type": "execute_result"
    }
   ],
   "source": [
    "# We need only filename, fold, and target\n",
    "csv.head()"
   ]
  },
  {
   "cell_type": "code",
   "execution_count": 9,
   "id": "ae685bfd",
   "metadata": {},
   "outputs": [],
   "source": [
    "# We can use torchaudio.load to load the file. The second value is the sampling rate of the file.\n",
    "x, sr = torchaudio.load(datapath / 'audio' / csv.iloc[0, 0], normalize=True)"
   ]
  },
  {
   "cell_type": "code",
   "execution_count": 10,
   "id": "af05f9b7",
   "metadata": {},
   "outputs": [
    {
     "data": {
      "text/plain": [
       "torch.Size([1, 220500])"
      ]
     },
     "execution_count": 10,
     "metadata": {},
     "output_type": "execute_result"
    }
   ],
   "source": [
    "x.shape"
   ]
  },
  {
   "cell_type": "code",
   "execution_count": 11,
   "id": "5304dd53",
   "metadata": {},
   "outputs": [
    {
     "data": {
      "text/plain": [
       "[<matplotlib.lines.Line2D at 0x22f66ba8bb0>]"
      ]
     },
     "execution_count": 11,
     "metadata": {},
     "output_type": "execute_result"
    },
    {
     "data": {
      "image/png": "[encoded data removed]",
      "text/plain": [
       "<Figure size 432x288 with 1 Axes>"
      ]
     },
     "metadata": {
      "needs_background": "light"
     },
     "output_type": "display_data"
    }
   ],
   "source": [
    "plt.plot(x[0, ::5])"
   ]
  },
  {
   "cell_type": "code",
   "execution_count": 12,
   "id": "f39705e3",
   "metadata": {},
   "outputs": [
    {
     "data": {
      "text/plain": [
       "torch.Size([1, 40000])"
      ]
     },
     "execution_count": 12,
     "metadata": {},
     "output_type": "execute_result"
    }
   ],
   "source": [
    "# Useful transformation to resample the original file.\n",
    "torchaudio.transforms.Resample(orig_freq=sr, new_freq=8000)(x).shape"
   ]
  },
  {
   "cell_type": "code",
   "execution_count": 13,
   "id": "e9556f4e",
   "metadata": {},
   "outputs": [
    {
     "name": "stderr",
     "output_type": "stream",
     "text": [
      "C:\\Users\\Maverick\\Anaconda3\\envs\\reprodl\\lib\\site-packages\\torchaudio\\functional\\functional.py:357: UserWarning: At least one mel filterbank has all zero values. The value for `n_mels` (128) may be set too high. Or, the value for `n_freqs` (201) may be set too low.\n",
      "  warnings.warn(\n"
     ]
    }
   ],
   "source": [
    "# Another useful transformation to build a Mel spectrogram (image-like), so that\n",
    "# we can apply any CNN on top of it.\n",
    "h = torchaudio.transforms.MelSpectrogram(sample_rate=sr)(x)"
   ]
  },
  {
   "cell_type": "code",
   "execution_count": 14,
   "id": "ce2cf845",
   "metadata": {},
   "outputs": [
    {
     "data": {
      "text/plain": [
       "torch.Size([1, 128, 1103])"
      ]
     },
     "execution_count": 14,
     "metadata": {},
     "output_type": "execute_result"
    }
   ],
   "source": [
    "h.shape"
   ]
  },
  {
   "cell_type": "code",
   "execution_count": 15,
   "id": "f4dc659b",
   "metadata": {},
   "outputs": [],
   "source": [
    "# Convert to DB magnitude, useful for scaling.\n",
    "# Note: values could be further normalize to significantly speed-up and simplify training.\n",
    "h = torchaudio.transforms.AmplitudeToDB()(h)"
   ]
  },
  {
   "cell_type": "code",
   "execution_count": 16,
   "id": "de81041e",
   "metadata": {},
   "outputs": [
    {
     "data": {
      "text/plain": [
       "<matplotlib.image.AxesImage at 0x22f6ec82f10>"
      ]
     },
     "execution_count": 16,
     "metadata": {},
     "output_type": "execute_result"
    },
    {
     "data": {
      "image/png": "[encoded data removed]",
      "text/plain": [
       "<Figure size 432x288 with 1 Axes>"
      ]
     },
     "metadata": {
      "needs_background": "light"
     },
     "output_type": "display_data"
    }
   ],
   "source": [
    "plt.imshow(h[0])"
   ]
  },
  {
   "cell_type": "markdown",
   "id": "9804195b",
   "metadata": {},
   "source": [
    "### Step 2: Putting together data loading and preprocessing"
   ]
  },
  {
   "cell_type": "code",
   "execution_count": 17,
   "id": "cf5523f1",
   "metadata": {},
   "outputs": [],
   "source": [
    "class ESC50Dataset(torch.utils.data.Dataset):\n",
    "    # Simple class to load the desired folders inside ESC-50\n",
    "    \n",
    "    def __init__(self, path: Path = Path('data/ESC-50'), \n",
    "                 sample_rate: int = 8000,\n",
    "                 folds = [1]):\n",
    "        # Load CSV & initialize all torchaudio.transforms:\n",
    "        # Resample --> MelSpectrogram --> AmplitudeToDB\n",
    "        self.path = path\n",
    "        self.csv = pd.read_csv(path / Path('meta/esc50.csv'))\n",
    "        self.csv = self.csv[self.csv['fold'].isin(folds)]\n",
    "        self.resample = torchaudio.transforms.Resample(\n",
    "            orig_freq=44100, new_freq=sample_rate\n",
    "        )\n",
    "        self.melspec = torchaudio.transforms.MelSpectrogram(\n",
    "            sample_rate=sample_rate)\n",
    "        self.db = torchaudio.transforms.AmplitudeToDB(top_db=80)\n",
    "        \n",
    "        \n",
    "    def __getitem__(self, index):\n",
    "        # Returns (xb, yb) pair, after applying all transformations on the audio file.\n",
    "        row = self.csv.iloc[index]\n",
    "        wav, _ = torchaudio.load(self.path / 'audio' / row['filename'])\n",
    "        label = row['target']\n",
    "        xb = self.db(\n",
    "            self.melspec(\n",
    "                self.resample(wav)\n",
    "            )\n",
    "        )\n",
    "        return xb, label\n",
    "        \n",
    "    def __len__(self):\n",
    "        # Returns length\n",
    "        return len(self.csv)"
   ]
  },
  {
   "cell_type": "code",
   "execution_count": 18,
   "id": "22500d4f",
   "metadata": {},
   "outputs": [],
   "source": [
    "train_data = ESC50Dataset()"
   ]
  },
  {
   "cell_type": "code",
   "execution_count": 19,
   "id": "932afe75",
   "metadata": {},
   "outputs": [],
   "source": [
    "for xb, yb in train_data:\n",
    "    break"
   ]
  },
  {
   "cell_type": "code",
   "execution_count": 20,
   "id": "e09146bb",
   "metadata": {},
   "outputs": [
    {
     "data": {
      "text/plain": [
       "torch.Size([1, 128, 201])"
      ]
     },
     "execution_count": 20,
     "metadata": {},
     "output_type": "execute_result"
    }
   ],
   "source": [
    "xb.shape"
   ]
  },
  {
   "cell_type": "code",
   "execution_count": 21,
   "id": "c98a885d",
   "metadata": {},
   "outputs": [
    {
     "data": {
      "text/plain": [
       "0"
      ]
     },
     "execution_count": 21,
     "metadata": {},
     "output_type": "execute_result"
    }
   ],
   "source": [
    "yb"
   ]
  },
  {
   "cell_type": "markdown",
   "id": "ce75d8fc",
   "metadata": {},
   "source": [
    "### Step 3: Build a classification model"
   ]
  },
  {
   "cell_type": "code",
   "execution_count": 22,
   "id": "2ea1fb4f",
   "metadata": {},
   "outputs": [],
   "source": [
    "# We use folds 1,2,3 for training, 4 for validation, 5 for testing.\n",
    "train_data = ESC50Dataset(folds=[1,2,3])\n",
    "val_data = ESC50Dataset(folds=[4])\n",
    "test_data = ESC50Dataset(folds=[5])"
   ]
  },
  {
   "cell_type": "code",
   "execution_count": 23,
   "id": "66cf2c8e",
   "metadata": {},
   "outputs": [],
   "source": [
    "train_loader = \\\n",
    "    torch.utils.data.DataLoader(train_data, batch_size=8, shuffle=True)"
   ]
  },
  {
   "cell_type": "code",
   "execution_count": 24,
   "id": "51893cba",
   "metadata": {},
   "outputs": [],
   "source": [
    "val_loader = torch.utils.data.DataLoader(val_data, batch_size=8)"
   ]
  },
  {
   "cell_type": "code",
   "execution_count": 25,
   "id": "f3ccab6a",
   "metadata": {},
   "outputs": [],
   "source": [
    "test_loader = torch.utils.data.DataLoader(test_data, batch_size=8)"
   ]
  },
  {
   "cell_type": "code",
   "execution_count": 32,
   "id": "a21ad399",
   "metadata": {},
   "outputs": [],
   "source": [
    "class AudioNet(pl.LightningModule):\n",
    "    \n",
    "    def __init__(self, n_classes = 50, base_filters = 32):\n",
    "        super().__init__()\n",
    "        self.conv1 = nn.Conv2d(1, base_filters, 11, padding=5)\n",
    "        self.bn1 = nn.BatchNorm2d(base_filters)\n",
    "        self.conv2 = nn.Conv2d(base_filters, base_filters, 3, padding=1)\n",
    "        self.bn2 = nn.BatchNorm2d(base_filters)\n",
    "        self.pool1 = nn.MaxPool2d(2)\n",
    "        self.conv3 = nn.Conv2d(base_filters, base_filters * 2, 3, padding=1)\n",
    "        self.bn3 = nn.BatchNorm2d(base_filters * 2)\n",
    "        self.conv4 = nn.Conv2d(base_filters * 2, base_filters * 4, 3, padding=1)\n",
    "        self.bn4 = nn.BatchNorm2d(base_filters * 4)\n",
    "        self.pool2 = nn.MaxPool2d(2)\n",
    "        self.fc1 = nn.Linear(base_filters * 4, n_classes)\n",
    "        \n",
    "    def forward(self, x):\n",
    "        x = self.conv1(x)\n",
    "        x = F.relu(self.bn1(x))\n",
    "        x = self.conv2(x)\n",
    "        x = F.relu(self.bn2(x))\n",
    "        x = self.pool1(x)\n",
    "        x = self.conv3(x)\n",
    "        x = F.relu(self.bn3(x))\n",
    "        x = self.conv4(x)\n",
    "        x = F.relu(self.bn4(x))\n",
    "        x = self.pool2(x)\n",
    "        x = F.adaptive_avg_pool2d(x, (1, 1))\n",
    "        x = self.fc1(x[:, :, 0, 0])\n",
    "        return x\n",
    "    \n",
    "    def training_step(self, batch, batch_idx):\n",
    "        # Very simple training loop\n",
    "        x, y = batch\n",
    "        y_hat = self(x)\n",
    "        loss = F.cross_entropy(y_hat, y)\n",
    "        self.log('train_loss', loss, on_step=True)\n",
    "        return loss\n",
    "    \n",
    "    def validation_step(self, batch, batch_idx):\n",
    "        x, y = batch\n",
    "        y_hat = self(x)\n",
    "        y_hat = torch.argmax(y_hat, dim=1)\n",
    "        acc = functional.accuracy(y_hat, y)\n",
    "        self.log('val_acc', acc, on_epoch=True, prog_bar=True)\n",
    "        return acc\n",
    "    \n",
    "    \n",
    "    def test_step(self, batch, batch_idx):\n",
    "        x, y = batch\n",
    "        y_hat = self(x)\n",
    "        y_hat = torch.argmax(y_hat, dim=1)\n",
    "        acc = functional.accuracy(y_hat, y)\n",
    "        self.log('test_acc', acc, on_epoch=True)\n",
    "        return acc\n",
    "    \n",
    "    def configure_optimizers(self):\n",
    "        optimizer = torch.optim.Adam(self.parameters(), lr=1e-3)\n",
    "        return optimizer"
   ]
  },
  {
   "cell_type": "code",
   "execution_count": 33,
   "id": "39db6dfc",
   "metadata": {},
   "outputs": [
    {
     "name": "stderr",
     "output_type": "stream",
     "text": [
      "Global seed set to 0\n"
     ]
    },
    {
     "data": {
      "text/plain": [
       "0"
      ]
     },
     "execution_count": 33,
     "metadata": {},
     "output_type": "execute_result"
    }
   ],
   "source": [
    "pl.seed_everything(0)"
   ]
  },
  {
   "cell_type": "code",
   "execution_count": 34,
   "id": "59fcc423",
   "metadata": {},
   "outputs": [
    {
     "data": {
      "text/plain": [
       "torch.Size([8, 50])"
      ]
     },
     "execution_count": 34,
     "metadata": {},
     "output_type": "execute_result"
    }
   ],
   "source": [
    "# Test that the network works on a single mini-batch\n",
    "audionet = AudioNet()\n",
    "xb, yb = next(iter(train_loader))\n",
    "audionet(xb).shape"
   ]
  },
  {
   "cell_type": "code",
   "execution_count": 36,
   "id": "c02e9e07",
   "metadata": {},
   "outputs": [
    {
     "name": "stderr",
     "output_type": "stream",
     "text": [
      "GPU available: True, used: True\n",
      "TPU available: False, using: 0 TPU cores\n"
     ]
    }
   ],
   "source": [
    "trainer = pl.Trainer(gpus=1, max_epochs=10)"
   ]
  },
  {
   "cell_type": "code",
   "execution_count": 37,
   "id": "f4b96321",
   "metadata": {},
   "outputs": [
    {
     "name": "stderr",
     "output_type": "stream",
     "text": [
      "LOCAL_RANK: 0 - CUDA_VISIBLE_DEVICES: [0]\n",
      "\n",
      "   | Name  | Type        | Params\n",
      "---------------------------------------\n",
      "0  | conv1 | Conv2d      | 3.9 K \n",
      "1  | bn1   | BatchNorm2d | 64    \n",
      "2  | conv2 | Conv2d      | 9.2 K \n",
      "3  | bn2   | BatchNorm2d | 64    \n",
      "4  | pool1 | MaxPool2d   | 0     \n",
      "5  | conv3 | Conv2d      | 18.5 K\n",
      "6  | bn3   | BatchNorm2d | 128   \n",
      "7  | conv4 | Conv2d      | 73.9 K\n",
      "8  | bn4   | BatchNorm2d | 256   \n",
      "9  | pool2 | MaxPool2d   | 0     \n",
      "10 | fc1   | Linear      | 6.5 K \n",
      "---------------------------------------\n",
      "112 K     Trainable params\n",
      "0         Non-trainable params\n",
      "112 K     Total params\n",
      "0.450     Total estimated model params size (MB)\n"
     ]
    },
    {
     "name": "stdout",
     "output_type": "stream",
     "text": [
      "                                                                                                                       "
     ]
    },
    {
     "name": "stderr",
     "output_type": "stream",
     "text": [
      "Global seed set to 0\n"
     ]
    },
    {
     "name": "stdout",
     "output_type": "stream",
     "text": [
      "Epoch 0:  75%|███████████████████████████         | 150/200 [00:20<00:06,  7.42it/s, loss=3.51, v_num=1, val_acc=0.000]\n",
      "Validating: 0it [00:00, ?it/s]\u001b[A\n",
      "Validating:   0%|                                                                               | 0/50 [00:00<?, ?it/s]\u001b[A\n",
      "Epoch 0:  76%|███████████████████████████▎        | 152/200 [00:20<00:06,  7.45it/s, loss=3.51, v_num=1, val_acc=0.000]\u001b[A\n",
      "Validating:   4%|██▊                                                                    | 2/50 [00:00<00:06,  7.14it/s]\u001b[A\n",
      "Validating:   6%|████▎                                                                  | 3/50 [00:00<00:06,  7.43it/s]\u001b[A\n",
      "Epoch 0:  78%|███████████████████████████▉        | 155/200 [00:20<00:06,  7.47it/s, loss=3.51, v_num=1, val_acc=0.000]\u001b[A\n",
      "Validating:  12%|████████▌                                                              | 6/50 [00:00<00:05,  8.54it/s]\u001b[A\n",
      "Epoch 0:  79%|████████████████████████████▍       | 158/200 [00:21<00:05,  7.49it/s, loss=3.51, v_num=1, val_acc=0.000]\u001b[A\n",
      "Validating:  16%|███████████▎                                                           | 8/50 [00:00<00:04,  8.72it/s]\u001b[A\n",
      "Validating:  18%|████████████▊                                                          | 9/50 [00:01<00:04,  8.58it/s]\u001b[A\n",
      "Epoch 0:  80%|████████████████████████████▉       | 161/200 [00:21<00:05,  7.51it/s, loss=3.51, v_num=1, val_acc=0.000]\u001b[A\n",
      "Validating:  24%|████████████████▊                                                     | 12/50 [00:01<00:03,  9.72it/s]\u001b[A\n",
      "Epoch 0:  82%|█████████████████████████████▌      | 164/200 [00:21<00:04,  7.55it/s, loss=3.51, v_num=1, val_acc=0.000]\u001b[A\n",
      "Validating:  28%|███████████████████▌                                                  | 14/50 [00:01<00:04,  8.92it/s]\u001b[A\n",
      "Validating:  30%|█████████████████████                                                 | 15/50 [00:01<00:03,  8.77it/s]\u001b[A\n",
      "Epoch 0:  84%|██████████████████████████████      | 167/200 [00:22<00:04,  7.56it/s, loss=3.51, v_num=1, val_acc=0.000]\u001b[A\n",
      "Validating:  34%|███████████████████████▊                                              | 17/50 [00:01<00:03,  8.90it/s]\u001b[A\n",
      "Validating:  36%|█████████████████████████▏                                            | 18/50 [00:02<00:03,  9.14it/s]\u001b[A\n",
      "Epoch 0:  85%|██████████████████████████████▌     | 170/200 [00:22<00:03,  7.58it/s, loss=3.51, v_num=1, val_acc=0.000]\u001b[A\n",
      "Validating:  40%|████████████████████████████                                          | 20/50 [00:02<00:03,  8.60it/s]\u001b[A\n",
      "Validating:  42%|█████████████████████████████▍                                        | 21/50 [00:02<00:03,  8.54it/s]\u001b[A\n",
      "Epoch 0:  86%|███████████████████████████████▏    | 173/200 [00:22<00:03,  7.60it/s, loss=3.51, v_num=1, val_acc=0.000]\u001b[A\n",
      "Validating:  46%|████████████████████████████████▏                                     | 23/50 [00:02<00:03,  8.91it/s]\u001b[A\n",
      "Validating:  48%|█████████████████████████████████▌                                    | 24/50 [00:02<00:02,  8.89it/s]\u001b[A\n",
      "Epoch 0:  88%|███████████████████████████████▋    | 176/200 [00:23<00:03,  7.62it/s, loss=3.51, v_num=1, val_acc=0.000]\u001b[A\n",
      "Validating:  52%|████████████████████████████████████▍                                 | 26/50 [00:03<00:02,  8.51it/s]\u001b[A\n",
      "Validating:  54%|█████████████████████████████████████▊                                | 27/50 [00:03<00:02,  8.05it/s]\u001b[A\n",
      "Epoch 0:  90%|████████████████████████████████▏   | 179/200 [00:23<00:02,  7.61it/s, loss=3.51, v_num=1, val_acc=0.000]\u001b[A\n",
      "Validating:  58%|████████████████████████████████████████▌                             | 29/50 [00:03<00:02,  7.11it/s]\u001b[A\n",
      "Validating:  60%|██████████████████████████████████████████                            | 30/50 [00:03<00:02,  7.06it/s]\u001b[A\n",
      "Epoch 0:  91%|████████████████████████████████▊   | 182/200 [00:23<00:02,  7.59it/s, loss=3.51, v_num=1, val_acc=0.000]\u001b[A\n",
      "Validating:  64%|████████████████████████████████████████████▊                         | 32/50 [00:03<00:02,  7.16it/s]\u001b[A\n",
      "Validating:  66%|██████████████████████████████████████████████▏                       | 33/50 [00:04<00:02,  7.31it/s]\u001b[A\n",
      "Epoch 0:  92%|█████████████████████████████████▎  | 185/200 [00:24<00:01,  7.59it/s, loss=3.51, v_num=1, val_acc=0.000]\u001b[A\n",
      "Validating:  70%|█████████████████████████████████████████████████                     | 35/50 [00:04<00:02,  6.97it/s]\u001b[A\n",
      "Validating:  72%|██████████████████████████████████████████████████▍                   | 36/50 [00:04<00:01,  7.13it/s]\u001b[A\n",
      "Epoch 0:  94%|█████████████████████████████████▊  | 188/200 [00:24<00:01,  7.59it/s, loss=3.51, v_num=1, val_acc=0.000]\u001b[A\n",
      "Validating:  76%|█████████████████████████████████████████████████████▏                | 38/50 [00:04<00:01,  7.75it/s]\u001b[A\n",
      "Validating:  78%|██████████████████████████████████████████████████████▌               | 39/50 [00:04<00:01,  8.03it/s]\u001b[A\n",
      "Epoch 0:  96%|██████████████████████████████████▍ | 191/200 [00:25<00:01,  7.61it/s, loss=3.51, v_num=1, val_acc=0.000]\u001b[A\n",
      "Validating:  82%|█████████████████████████████████████████████████████████▍            | 41/50 [00:04<00:01,  8.59it/s]\u001b[A\n",
      "Validating:  84%|██████████████████████████████████████████████████████████▊           | 42/50 [00:05<00:00,  8.47it/s]\u001b[A\n",
      "Epoch 0:  97%|██████████████████████████████████▉ | 194/200 [00:25<00:00,  7.62it/s, loss=3.51, v_num=1, val_acc=0.000]\u001b[A\n",
      "Validating:  88%|█████████████████████████████████████████████████████████████▌        | 44/50 [00:05<00:00,  8.49it/s]\u001b[A\n",
      "Validating:  90%|███████████████████████████████████████████████████████████████       | 45/50 [00:05<00:00,  7.90it/s]\u001b[A\n",
      "Epoch 0:  98%|███████████████████████████████████▍| 197/200 [00:25<00:00,  7.61it/s, loss=3.51, v_num=1, val_acc=0.000]\u001b[A\n",
      "Validating:  94%|█████████████████████████████████████████████████████████████████▊    | 47/50 [00:05<00:00,  7.10it/s]\u001b[A\n",
      "Validating:  96%|███████████████████████████████████████████████████████████████████▏  | 48/50 [00:05<00:00,  7.05it/s]\u001b[A\n",
      "Epoch 0: 100%|████████████████████████████████████| 200/200 [00:26<00:00,  7.60it/s, loss=3.51, v_num=1, val_acc=0.000]\u001b[A\n",
      "Epoch 0: 100%|████████████████████████████████████| 200/200 [00:26<00:00,  7.57it/s, loss=3.51, v_num=1, val_acc=0.112]\u001b[A\n",
      "Epoch 1:  75%|███████████████████████████         | 150/200 [00:20<00:06,  7.25it/s, loss=3.28, v_num=1, val_acc=0.112]\u001b[A\n",
      "Validating: 0it [00:00, ?it/s]\u001b[A\n",
      "Validating:   0%|                                                                               | 0/50 [00:00<?, ?it/s]\u001b[A\n",
      "Validating:   2%|█▍                                                                     | 1/50 [00:00<00:05,  9.31it/s]\u001b[A\n",
      "Epoch 1:  76%|███████████████████████████▌        | 153/200 [00:21<00:06,  7.28it/s, loss=3.28, v_num=1, val_acc=0.112]\u001b[A\n",
      "Validating:   6%|████▎                                                                  | 3/50 [00:00<00:05,  8.96it/s]\u001b[A\n",
      "Validating:   8%|█████▋                                                                 | 4/50 [00:00<00:04,  9.30it/s]\u001b[A\n",
      "Epoch 1:  78%|████████████████████████████        | 156/200 [00:21<00:06,  7.31it/s, loss=3.28, v_num=1, val_acc=0.112]\u001b[A\n",
      "Validating:  12%|████████▌                                                              | 6/50 [00:00<00:04,  8.97it/s]\u001b[A\n",
      "Validating:  14%|█████████▉                                                             | 7/50 [00:00<00:04,  9.17it/s]\u001b[A\n",
      "Epoch 1:  80%|████████████████████████████▌       | 159/200 [00:21<00:05,  7.33it/s, loss=3.28, v_num=1, val_acc=0.112]\u001b[A\n",
      "Validating:  18%|████████████▊                                                          | 9/50 [00:01<00:04,  8.41it/s]\u001b[A\n",
      "Validating:  20%|██████████████                                                        | 10/50 [00:01<00:04,  8.34it/s]\u001b[A\n",
      "Epoch 1:  81%|█████████████████████████████▏      | 162/200 [00:22<00:05,  7.34it/s, loss=3.28, v_num=1, val_acc=0.112]\u001b[A\n",
      "Validating:  24%|████████████████▊                                                     | 12/50 [00:01<00:04,  8.21it/s]\u001b[A\n",
      "Validating:  26%|██████████████████▏                                                   | 13/50 [00:01<00:04,  8.28it/s]\u001b[A\n",
      "Epoch 1:  82%|█████████████████████████████▋      | 165/200 [00:22<00:04,  7.36it/s, loss=3.28, v_num=1, val_acc=0.112]\u001b[A\n"
     ]
    },
    {
     "name": "stdout",
     "output_type": "stream",
     "text": [
      "Validating:  30%|█████████████████████                                                 | 15/50 [00:01<00:04,  7.97it/s]\u001b[A\n",
      "Validating:  32%|██████████████████████▍                                               | 16/50 [00:01<00:04,  8.07it/s]\u001b[A\n",
      "Epoch 1:  84%|██████████████████████████████▏     | 168/200 [00:22<00:04,  7.37it/s, loss=3.28, v_num=1, val_acc=0.112]\u001b[A\n",
      "Validating:  36%|█████████████████████████▏                                            | 18/50 [00:02<00:04,  7.75it/s]\u001b[A\n",
      "Validating:  38%|██████████████████████████▌                                           | 19/50 [00:02<00:03,  8.05it/s]\u001b[A\n",
      "Epoch 1:  86%|██████████████████████████████▊     | 171/200 [00:23<00:03,  7.38it/s, loss=3.28, v_num=1, val_acc=0.112]\u001b[A\n",
      "Validating:  42%|█████████████████████████████▍                                        | 21/50 [00:02<00:03,  7.96it/s]\u001b[A\n",
      "Validating:  44%|██████████████████████████████▊                                       | 22/50 [00:02<00:03,  7.90it/s]\u001b[A\n",
      "Epoch 1:  87%|███████████████████████████████▎    | 174/200 [00:23<00:03,  7.39it/s, loss=3.28, v_num=1, val_acc=0.112]\u001b[A\n",
      "Validating:  48%|█████████████████████████████████▌                                    | 24/50 [00:02<00:03,  8.45it/s]\u001b[A\n",
      "Validating:  50%|███████████████████████████████████                                   | 25/50 [00:02<00:02,  8.69it/s]\u001b[A\n",
      "Epoch 1:  88%|███████████████████████████████▊    | 177/200 [00:23<00:03,  7.41it/s, loss=3.28, v_num=1, val_acc=0.112]\u001b[A\n",
      "Validating:  54%|█████████████████████████████████████▊                                | 27/50 [00:03<00:02,  8.78it/s]\u001b[A\n",
      "Validating:  56%|███████████████████████████████████████▏                              | 28/50 [00:03<00:02,  8.67it/s]\u001b[A\n",
      "Epoch 1:  90%|████████████████████████████████▍   | 180/200 [00:24<00:02,  7.43it/s, loss=3.28, v_num=1, val_acc=0.112]\u001b[A\n",
      "Validating:  60%|██████████████████████████████████████████                            | 30/50 [00:03<00:02,  8.65it/s]\u001b[A\n",
      "Validating:  62%|███████████████████████████████████████████▍                          | 31/50 [00:03<00:02,  8.66it/s]\u001b[A\n",
      "Epoch 1:  92%|████████████████████████████████▉   | 183/200 [00:24<00:02,  7.44it/s, loss=3.28, v_num=1, val_acc=0.112]\u001b[A\n",
      "Validating:  66%|██████████████████████████████████████████████▏                       | 33/50 [00:03<00:02,  8.09it/s]\u001b[A\n",
      "Validating:  68%|███████████████████████████████████████████████▌                      | 34/50 [00:04<00:01,  8.07it/s]\u001b[A\n",
      "Epoch 1:  93%|█████████████████████████████████▍  | 186/200 [00:24<00:01,  7.45it/s, loss=3.28, v_num=1, val_acc=0.112]\u001b[A\n",
      "Validating:  72%|██████████████████████████████████████████████████▍                   | 36/50 [00:04<00:01,  8.42it/s]\u001b[A\n",
      "Validating:  74%|███████████████████████████████████████████████████▊                  | 37/50 [00:04<00:01,  8.49it/s]\u001b[A\n",
      "Epoch 1:  94%|██████████████████████████████████  | 189/200 [00:25<00:01,  7.47it/s, loss=3.28, v_num=1, val_acc=0.112]\u001b[A\n",
      "Validating:  78%|██████████████████████████████████████████████████████▌               | 39/50 [00:04<00:01,  8.62it/s]\u001b[A\n",
      "Validating:  80%|████████████████████████████████████████████████████████              | 40/50 [00:04<00:01,  8.85it/s]\u001b[A\n",
      "Epoch 1:  96%|██████████████████████████████████▌ | 192/200 [00:25<00:01,  7.49it/s, loss=3.28, v_num=1, val_acc=0.112]\u001b[A\n",
      "Validating:  84%|██████████████████████████████████████████████████████████▊           | 42/50 [00:04<00:00,  8.96it/s]\u001b[A\n",
      "Validating:  86%|████████████████████████████████████████████████████████████▏         | 43/50 [00:05<00:00,  8.58it/s]\u001b[A\n",
      "Epoch 1:  98%|███████████████████████████████████ | 195/200 [00:25<00:00,  7.50it/s, loss=3.28, v_num=1, val_acc=0.112]\u001b[A\n",
      "Validating:  90%|███████████████████████████████████████████████████████████████       | 45/50 [00:05<00:00,  8.35it/s]\u001b[A\n",
      "Validating:  92%|████████████████████████████████████████████████████████████████▍     | 46/50 [00:05<00:00,  8.54it/s]\u001b[A\n",
      "Epoch 1:  99%|███████████████████████████████████▋| 198/200 [00:26<00:00,  7.51it/s, loss=3.28, v_num=1, val_acc=0.112]\u001b[A\n",
      "Validating:  96%|███████████████████████████████████████████████████████████████████▏  | 48/50 [00:05<00:00,  8.55it/s]\u001b[A\n",
      "Validating:  98%|████████████████████████████████████████████████████████████████████▌ | 49/50 [00:05<00:00,  8.73it/s]\u001b[A\n",
      "Epoch 1: 100%|████████████████████████████████████| 200/200 [00:26<00:00,  7.49it/s, loss=3.28, v_num=1, val_acc=0.142]\u001b[A\n",
      "Epoch 2:  75%|███████████████████████████         | 150/200 [00:19<00:06,  7.67it/s, loss=3.27, v_num=1, val_acc=0.142]\u001b[A\n",
      "Validating: 0it [00:00, ?it/s]\u001b[A\n",
      "Validating:   0%|                                                                               | 0/50 [00:00<?, ?it/s]\u001b[A\n",
      "Validating:   2%|█▍                                                                     | 1/50 [00:00<00:05,  9.13it/s]\u001b[A\n",
      "Epoch 2:  76%|███████████████████████████▌        | 153/200 [00:19<00:06,  7.73it/s, loss=3.27, v_num=1, val_acc=0.142]\u001b[A\n",
      "Validating:   6%|████▎                                                                  | 3/50 [00:00<00:05,  8.27it/s]\u001b[A\n",
      "Validating:   8%|█████▋                                                                 | 4/50 [00:00<00:05,  8.32it/s]\u001b[A\n",
      "Epoch 2:  78%|████████████████████████████        | 156/200 [00:20<00:05,  7.74it/s, loss=3.27, v_num=1, val_acc=0.142]\u001b[A\n",
      "Validating:  14%|█████████▉                                                             | 7/50 [00:00<00:04,  9.33it/s]\u001b[A\n",
      "Epoch 2:  80%|████████████████████████████▌       | 159/200 [00:20<00:05,  7.78it/s, loss=3.27, v_num=1, val_acc=0.142]\u001b[A\n",
      "Validating:  18%|████████████▊                                                          | 9/50 [00:01<00:04,  9.07it/s]\u001b[A\n",
      "Validating:  20%|██████████████                                                        | 10/50 [00:01<00:04,  9.01it/s]\u001b[A\n",
      "Epoch 2:  81%|█████████████████████████████▏      | 162/200 [00:20<00:04,  7.79it/s, loss=3.27, v_num=1, val_acc=0.142]\u001b[A\n",
      "Validating:  24%|████████████████▊                                                     | 12/50 [00:01<00:04,  8.99it/s]\u001b[A\n",
      "Validating:  26%|██████████████████▏                                                   | 13/50 [00:01<00:04,  8.92it/s]\u001b[A\n",
      "Epoch 2:  82%|█████████████████████████████▋      | 165/200 [00:21<00:04,  7.80it/s, loss=3.27, v_num=1, val_acc=0.142]\u001b[A\n",
      "Validating:  30%|█████████████████████                                                 | 15/50 [00:01<00:04,  8.46it/s]\u001b[A\n",
      "Validating:  32%|██████████████████████▍                                               | 16/50 [00:01<00:03,  8.59it/s]\u001b[A\n",
      "Epoch 2:  84%|██████████████████████████████▏     | 168/200 [00:21<00:04,  7.82it/s, loss=3.27, v_num=1, val_acc=0.142]\u001b[A\n",
      "Validating:  36%|█████████████████████████▏                                            | 18/50 [00:02<00:03,  8.82it/s]\u001b[A\n",
      "Validating:  38%|██████████████████████████▌                                           | 19/50 [00:02<00:03,  8.83it/s]\u001b[A\n",
      "Epoch 2:  86%|██████████████████████████████▊     | 171/200 [00:21<00:03,  7.83it/s, loss=3.27, v_num=1, val_acc=0.142]\u001b[A\n",
      "Validating:  42%|█████████████████████████████▍                                        | 21/50 [00:02<00:03,  8.53it/s]\u001b[A\n",
      "Validating:  44%|██████████████████████████████▊                                       | 22/50 [00:02<00:03,  8.74it/s]\u001b[A\n",
      "Epoch 2:  87%|███████████████████████████████▎    | 174/200 [00:22<00:03,  7.84it/s, loss=3.27, v_num=1, val_acc=0.142]\u001b[A\n",
      "Validating:  48%|█████████████████████████████████▌                                    | 24/50 [00:02<00:02,  8.83it/s]\u001b[A\n",
      "Validating:  50%|███████████████████████████████████                                   | 25/50 [00:02<00:02,  8.98it/s]\u001b[A\n",
      "Epoch 2:  88%|███████████████████████████████▊    | 177/200 [00:22<00:02,  7.86it/s, loss=3.27, v_num=1, val_acc=0.142]\u001b[A\n",
      "Validating:  54%|█████████████████████████████████████▊                                | 27/50 [00:03<00:02,  8.52it/s]\u001b[A\n",
      "Validating:  56%|███████████████████████████████████████▏                              | 28/50 [00:03<00:02,  8.41it/s]\u001b[A\n",
      "Epoch 2:  90%|████████████████████████████████▍   | 180/200 [00:22<00:02,  7.86it/s, loss=3.27, v_num=1, val_acc=0.142]\u001b[A\n"
     ]
    },
    {
     "name": "stdout",
     "output_type": "stream",
     "text": [
      "Validating:  60%|██████████████████████████████████████████                            | 30/50 [00:03<00:02,  8.32it/s]\u001b[A\n",
      "Validating:  62%|███████████████████████████████████████████▍                          | 31/50 [00:03<00:02,  8.71it/s]\u001b[A\n",
      "Epoch 2:  92%|████████████████████████████████▉   | 183/200 [00:23<00:02,  7.88it/s, loss=3.27, v_num=1, val_acc=0.142]\u001b[A\n",
      "Validating:  66%|██████████████████████████████████████████████▏                       | 33/50 [00:03<00:01,  8.82it/s]\u001b[A\n",
      "Validating:  68%|███████████████████████████████████████████████▌                      | 34/50 [00:03<00:01,  8.78it/s]\u001b[A\n",
      "Epoch 2:  93%|█████████████████████████████████▍  | 186/200 [00:23<00:01,  7.89it/s, loss=3.27, v_num=1, val_acc=0.142]\u001b[A\n",
      "Validating:  72%|██████████████████████████████████████████████████▍                   | 36/50 [00:04<00:01,  8.76it/s]\u001b[A\n",
      "Validating:  74%|███████████████████████████████████████████████████▊                  | 37/50 [00:04<00:01,  8.95it/s]\u001b[A\n",
      "Epoch 2:  94%|██████████████████████████████████  | 189/200 [00:23<00:01,  7.91it/s, loss=3.27, v_num=1, val_acc=0.142]\u001b[A\n",
      "Validating:  78%|██████████████████████████████████████████████████████▌               | 39/50 [00:04<00:01,  8.63it/s]\u001b[A\n",
      "Validating:  80%|████████████████████████████████████████████████████████              | 40/50 [00:04<00:01,  8.23it/s]\u001b[A\n",
      "Epoch 2:  96%|██████████████████████████████████▌ | 192/200 [00:24<00:01,  7.91it/s, loss=3.27, v_num=1, val_acc=0.142]\u001b[A\n",
      "Validating:  86%|████████████████████████████████████████████████████████████▏         | 43/50 [00:04<00:00,  9.01it/s]\u001b[A\n",
      "Epoch 2:  98%|███████████████████████████████████ | 195/200 [00:24<00:00,  7.93it/s, loss=3.27, v_num=1, val_acc=0.142]\u001b[A\n",
      "Validating:  90%|███████████████████████████████████████████████████████████████       | 45/50 [00:05<00:00,  8.91it/s]\u001b[A\n",
      "Validating:  92%|████████████████████████████████████████████████████████████████▍     | 46/50 [00:05<00:00,  8.86it/s]\u001b[A\n",
      "Epoch 2:  99%|███████████████████████████████████▋| 198/200 [00:24<00:00,  7.94it/s, loss=3.27, v_num=1, val_acc=0.142]\u001b[A\n",
      "Validating:  96%|███████████████████████████████████████████████████████████████████▏  | 48/50 [00:05<00:00,  9.25it/s]\u001b[A\n",
      "Validating:  98%|████████████████████████████████████████████████████████████████████▌ | 49/50 [00:05<00:00,  8.97it/s]\u001b[A\n",
      "Epoch 2: 100%|███████████████████████████████████| 200/200 [00:25<00:00,  7.91it/s, loss=3.27, v_num=1, val_acc=0.0975]\u001b[A\n",
      "Epoch 3:  75%|██████████████████████████▎        | 150/200 [00:19<00:06,  7.72it/s, loss=3.08, v_num=1, val_acc=0.0975]\u001b[A\n",
      "Validating: 0it [00:00, ?it/s]\u001b[A\n",
      "Validating:   0%|                                                                               | 0/50 [00:00<?, ?it/s]\u001b[A\n",
      "Validating:   2%|█▍                                                                     | 1/50 [00:00<00:05,  8.29it/s]\u001b[A\n",
      "Epoch 3:  76%|██████████████████████████▊        | 153/200 [00:19<00:06,  7.77it/s, loss=3.08, v_num=1, val_acc=0.0975]\u001b[A\n",
      "Validating:   6%|████▎                                                                  | 3/50 [00:00<00:05,  8.12it/s]\u001b[A\n",
      "Validating:   8%|█████▋                                                                 | 4/50 [00:00<00:05,  8.32it/s]\u001b[A\n",
      "Epoch 3:  78%|███████████████████████████▎       | 156/200 [00:20<00:05,  7.78it/s, loss=3.08, v_num=1, val_acc=0.0975]\u001b[A\n",
      "Validating:  12%|████████▌                                                              | 6/50 [00:00<00:05,  8.66it/s]\u001b[A\n",
      "Validating:  14%|█████████▉                                                             | 7/50 [00:00<00:04,  8.67it/s]\u001b[A\n",
      "Epoch 3:  80%|███████████████████████████▊       | 159/200 [00:20<00:05,  7.80it/s, loss=3.08, v_num=1, val_acc=0.0975]\u001b[A\n",
      "Validating:  18%|████████████▊                                                          | 9/50 [00:01<00:04,  8.38it/s]\u001b[A\n",
      "Validating:  20%|██████████████                                                        | 10/50 [00:01<00:04,  8.34it/s]\u001b[A\n",
      "Epoch 3:  81%|████████████████████████████▎      | 162/200 [00:20<00:04,  7.81it/s, loss=3.08, v_num=1, val_acc=0.0975]\u001b[A\n",
      "Validating:  24%|████████████████▊                                                     | 12/50 [00:01<00:04,  8.44it/s]\u001b[A\n",
      "Validating:  26%|██████████████████▏                                                   | 13/50 [00:01<00:04,  8.26it/s]\u001b[A\n",
      "Epoch 3:  82%|████████████████████████████▉      | 165/200 [00:21<00:04,  7.81it/s, loss=3.08, v_num=1, val_acc=0.0975]\u001b[A\n",
      "Validating:  30%|█████████████████████                                                 | 15/50 [00:01<00:04,  8.50it/s]\u001b[A\n",
      "Validating:  32%|██████████████████████▍                                               | 16/50 [00:01<00:04,  8.38it/s]\u001b[A\n",
      "Epoch 3:  84%|█████████████████████████████▍     | 168/200 [00:21<00:04,  7.82it/s, loss=3.08, v_num=1, val_acc=0.0975]\u001b[A\n",
      "Validating:  36%|█████████████████████████▏                                            | 18/50 [00:02<00:03,  8.51it/s]\u001b[A\n",
      "Validating:  38%|██████████████████████████▌                                           | 19/50 [00:02<00:03,  8.54it/s]\u001b[A\n",
      "Epoch 3:  86%|█████████████████████████████▉     | 171/200 [00:21<00:03,  7.83it/s, loss=3.08, v_num=1, val_acc=0.0975]\u001b[A\n",
      "Validating:  42%|█████████████████████████████▍                                        | 21/50 [00:02<00:03,  8.03it/s]\u001b[A\n",
      "Validating:  44%|██████████████████████████████▊                                       | 22/50 [00:02<00:03,  8.21it/s]\u001b[A\n",
      "Epoch 3:  87%|██████████████████████████████▍    | 174/200 [00:22<00:03,  7.83it/s, loss=3.08, v_num=1, val_acc=0.0975]\u001b[A\n",
      "Validating:  48%|█████████████████████████████████▌                                    | 24/50 [00:02<00:03,  8.21it/s]\u001b[A\n",
      "Validating:  50%|███████████████████████████████████                                   | 25/50 [00:03<00:03,  8.24it/s]\u001b[A\n",
      "Epoch 3:  88%|██████████████████████████████▉    | 177/200 [00:22<00:02,  7.85it/s, loss=3.08, v_num=1, val_acc=0.0975]\u001b[A\n",
      "Validating:  54%|█████████████████████████████████████▊                                | 27/50 [00:03<00:02,  8.59it/s]\u001b[A\n",
      "Validating:  56%|███████████████████████████████████████▏                              | 28/50 [00:03<00:02,  8.61it/s]\u001b[A\n",
      "Epoch 3:  90%|███████████████████████████████▌   | 180/200 [00:22<00:02,  7.86it/s, loss=3.08, v_num=1, val_acc=0.0975]\u001b[A\n",
      "Validating:  60%|██████████████████████████████████████████                            | 30/50 [00:03<00:02,  8.44it/s]\u001b[A\n",
      "Validating:  62%|███████████████████████████████████████████▍                          | 31/50 [00:03<00:02,  8.27it/s]\u001b[A\n",
      "Epoch 3:  92%|████████████████████████████████   | 183/200 [00:23<00:02,  7.86it/s, loss=3.08, v_num=1, val_acc=0.0975]\u001b[A\n",
      "Validating:  66%|██████████████████████████████████████████████▏                       | 33/50 [00:03<00:02,  8.05it/s]\u001b[A\n",
      "Validating:  68%|███████████████████████████████████████████████▌                      | 34/50 [00:04<00:01,  8.26it/s]\u001b[A\n",
      "Epoch 3:  93%|████████████████████████████████▌  | 186/200 [00:23<00:01,  7.87it/s, loss=3.08, v_num=1, val_acc=0.0975]\u001b[A\n",
      "Validating:  72%|██████████████████████████████████████████████████▍                   | 36/50 [00:04<00:01,  8.64it/s]\u001b[A\n",
      "Validating:  74%|███████████████████████████████████████████████████▊                  | 37/50 [00:04<00:01,  8.87it/s]\u001b[A\n",
      "Epoch 3:  94%|█████████████████████████████████  | 189/200 [00:23<00:01,  7.89it/s, loss=3.08, v_num=1, val_acc=0.0975]\u001b[A\n",
      "Validating:  78%|██████████████████████████████████████████████████████▌               | 39/50 [00:04<00:01,  8.94it/s]\u001b[A\n",
      "Validating:  80%|████████████████████████████████████████████████████████              | 40/50 [00:04<00:01,  8.91it/s]\u001b[A\n",
      "Epoch 3:  96%|█████████████████████████████████▌ | 192/200 [00:24<00:01,  7.90it/s, loss=3.08, v_num=1, val_acc=0.0975]\u001b[A\n",
      "Validating:  84%|██████████████████████████████████████████████████████████▊           | 42/50 [00:04<00:00,  8.77it/s]\u001b[A\n",
      "Validating:  86%|████████████████████████████████████████████████████████████▏         | 43/50 [00:05<00:00,  8.57it/s]\u001b[A\n",
      "Epoch 3:  98%|██████████████████████████████████▏| 195/200 [00:24<00:00,  7.91it/s, loss=3.08, v_num=1, val_acc=0.0975]\u001b[A\n"
     ]
    },
    {
     "name": "stdout",
     "output_type": "stream",
     "text": [
      "Validating:  90%|███████████████████████████████████████████████████████████████       | 45/50 [00:05<00:00,  8.10it/s]\u001b[A\n",
      "Validating:  92%|████████████████████████████████████████████████████████████████▍     | 46/50 [00:05<00:00,  7.94it/s]\u001b[A\n",
      "Epoch 3:  99%|██████████████████████████████████▋| 198/200 [00:25<00:00,  7.90it/s, loss=3.08, v_num=1, val_acc=0.0975]\u001b[A\n",
      "Validating:  96%|███████████████████████████████████████████████████████████████████▏  | 48/50 [00:05<00:00,  8.04it/s]\u001b[A\n",
      "Validating:  98%|████████████████████████████████████████████████████████████████████▌ | 49/50 [00:05<00:00,  8.12it/s]\u001b[A\n",
      "Epoch 3: 100%|████████████████████████████████████| 200/200 [00:25<00:00,  7.87it/s, loss=3.08, v_num=1, val_acc=0.257]\u001b[A\n",
      "Epoch 4:  75%|███████████████████████████         | 150/200 [00:19<00:06,  7.70it/s, loss=2.82, v_num=1, val_acc=0.257]\u001b[A\n",
      "Validating: 0it [00:00, ?it/s]\u001b[A\n",
      "Validating:   0%|                                                                               | 0/50 [00:00<?, ?it/s]\u001b[A\n",
      "Validating:   2%|█▍                                                                     | 1/50 [00:00<00:05,  8.24it/s]\u001b[A\n",
      "Epoch 4:  76%|███████████████████████████▌        | 153/200 [00:19<00:06,  7.75it/s, loss=2.82, v_num=1, val_acc=0.257]\u001b[A\n",
      "Validating:   6%|████▎                                                                  | 3/50 [00:00<00:05,  7.96it/s]\u001b[A\n",
      "Validating:   8%|█████▋                                                                 | 4/50 [00:00<00:05,  7.80it/s]\u001b[A\n",
      "Epoch 4:  78%|████████████████████████████        | 156/200 [00:20<00:05,  7.76it/s, loss=2.82, v_num=1, val_acc=0.257]\u001b[A\n",
      "Validating:  12%|████████▌                                                              | 6/50 [00:00<00:05,  8.79it/s]\u001b[A\n",
      "Validating:  14%|█████████▉                                                             | 7/50 [00:00<00:05,  8.40it/s]\u001b[A\n",
      "Epoch 4:  80%|████████████████████████████▌       | 159/200 [00:20<00:05,  7.77it/s, loss=2.82, v_num=1, val_acc=0.257]\u001b[A\n",
      "Validating:  18%|████████████▊                                                          | 9/50 [00:01<00:04,  8.44it/s]\u001b[A\n",
      "Validating:  20%|██████████████                                                        | 10/50 [00:01<00:04,  8.83it/s]\u001b[A\n",
      "Epoch 4:  81%|█████████████████████████████▏      | 162/200 [00:20<00:04,  7.79it/s, loss=2.82, v_num=1, val_acc=0.257]\u001b[A\n",
      "Validating:  24%|████████████████▊                                                     | 12/50 [00:01<00:04,  8.78it/s]\u001b[A\n",
      "Validating:  26%|██████████████████▏                                                   | 13/50 [00:01<00:04,  8.41it/s]\u001b[A\n",
      "Epoch 4:  82%|█████████████████████████████▋      | 165/200 [00:21<00:04,  7.80it/s, loss=2.82, v_num=1, val_acc=0.257]\u001b[A\n",
      "Validating:  30%|█████████████████████                                                 | 15/50 [00:01<00:04,  8.12it/s]\u001b[A\n",
      "Validating:  32%|██████████████████████▍                                               | 16/50 [00:01<00:04,  8.28it/s]\u001b[A\n",
      "Epoch 4:  84%|██████████████████████████████▏     | 168/200 [00:21<00:04,  7.80it/s, loss=2.82, v_num=1, val_acc=0.257]\u001b[A\n",
      "Validating:  36%|█████████████████████████▏                                            | 18/50 [00:02<00:03,  8.77it/s]\u001b[A\n",
      "Epoch 4:  86%|██████████████████████████████▊     | 171/200 [00:21<00:03,  7.83it/s, loss=2.82, v_num=1, val_acc=0.257]\u001b[A\n",
      "Validating:  42%|█████████████████████████████▍                                        | 21/50 [00:02<00:03,  9.36it/s]\u001b[A\n",
      "Validating:  44%|██████████████████████████████▊                                       | 22/50 [00:02<00:03,  9.30it/s]\u001b[A\n",
      "Epoch 4:  87%|███████████████████████████████▎    | 174/200 [00:22<00:03,  7.85it/s, loss=2.82, v_num=1, val_acc=0.257]\u001b[A\n",
      "Validating:  48%|█████████████████████████████████▌                                    | 24/50 [00:02<00:02,  9.28it/s]\u001b[A\n",
      "Validating:  50%|███████████████████████████████████                                   | 25/50 [00:02<00:02,  9.29it/s]\u001b[A\n",
      "Epoch 4:  88%|███████████████████████████████▊    | 177/200 [00:22<00:02,  7.87it/s, loss=2.82, v_num=1, val_acc=0.257]\u001b[A\n",
      "Validating:  54%|█████████████████████████████████████▊                                | 27/50 [00:03<00:02,  8.91it/s]\u001b[A\n",
      "Validating:  56%|███████████████████████████████████████▏                              | 28/50 [00:03<00:02,  8.81it/s]\u001b[A\n",
      "Epoch 4:  90%|████████████████████████████████▍   | 180/200 [00:22<00:02,  7.88it/s, loss=2.82, v_num=1, val_acc=0.257]\u001b[A\n",
      "Validating:  60%|██████████████████████████████████████████                            | 30/50 [00:03<00:02,  8.75it/s]\u001b[A\n",
      "Validating:  62%|███████████████████████████████████████████▍                          | 31/50 [00:03<00:02,  8.69it/s]\u001b[A\n",
      "Epoch 4:  92%|████████████████████████████████▉   | 183/200 [00:23<00:02,  7.90it/s, loss=2.82, v_num=1, val_acc=0.257]\u001b[A\n",
      "Validating:  66%|██████████████████████████████████████████████▏                       | 33/50 [00:03<00:01,  9.04it/s]\u001b[A\n",
      "Validating:  68%|███████████████████████████████████████████████▌                      | 34/50 [00:03<00:01,  9.23it/s]\u001b[A\n",
      "Epoch 4:  93%|█████████████████████████████████▍  | 186/200 [00:23<00:01,  7.91it/s, loss=2.82, v_num=1, val_acc=0.257]\u001b[A\n",
      "Validating:  72%|██████████████████████████████████████████████████▍                   | 36/50 [00:04<00:01,  8.86it/s]\u001b[A\n",
      "Validating:  74%|███████████████████████████████████████████████████▊                  | 37/50 [00:04<00:01,  8.89it/s]\u001b[A\n",
      "Epoch 4:  94%|██████████████████████████████████  | 189/200 [00:23<00:01,  7.93it/s, loss=2.82, v_num=1, val_acc=0.257]\u001b[A\n",
      "Validating:  78%|██████████████████████████████████████████████████████▌               | 39/50 [00:04<00:01,  9.00it/s]\u001b[A\n",
      "Validating:  80%|████████████████████████████████████████████████████████              | 40/50 [00:04<00:01,  8.79it/s]\u001b[A\n",
      "Epoch 4:  96%|██████████████████████████████████▌ | 192/200 [00:24<00:01,  7.94it/s, loss=2.82, v_num=1, val_acc=0.257]\u001b[A\n",
      "Validating:  84%|██████████████████████████████████████████████████████████▊           | 42/50 [00:04<00:00,  8.85it/s]\u001b[A\n",
      "Validating:  86%|████████████████████████████████████████████████████████████▏         | 43/50 [00:04<00:00,  8.85it/s]\u001b[A\n",
      "Epoch 4:  98%|███████████████████████████████████ | 195/200 [00:24<00:00,  7.95it/s, loss=2.82, v_num=1, val_acc=0.257]\u001b[A\n",
      "Validating:  90%|███████████████████████████████████████████████████████████████       | 45/50 [00:05<00:00,  8.73it/s]\u001b[A\n",
      "Validating:  92%|████████████████████████████████████████████████████████████████▍     | 46/50 [00:05<00:00,  9.01it/s]\u001b[A\n",
      "Epoch 4:  99%|███████████████████████████████████▋| 198/200 [00:24<00:00,  7.97it/s, loss=2.82, v_num=1, val_acc=0.257]\u001b[A\n",
      "Validating:  96%|███████████████████████████████████████████████████████████████████▏  | 48/50 [00:05<00:00,  8.82it/s]\u001b[A\n",
      "Validating:  98%|████████████████████████████████████████████████████████████████████▌ | 49/50 [00:05<00:00,  9.09it/s]\u001b[A\n",
      "Epoch 4: 100%|████████████████████████████████████| 200/200 [00:25<00:00,  7.94it/s, loss=2.82, v_num=1, val_acc=0.255]\u001b[A\n",
      "Epoch 5:  75%|███████████████████████████         | 150/200 [00:19<00:06,  7.81it/s, loss=2.84, v_num=1, val_acc=0.255]\u001b[A\n",
      "Validating: 0it [00:00, ?it/s]\u001b[A\n",
      "Validating:   0%|                                                                               | 0/50 [00:00<?, ?it/s]\u001b[A\n",
      "Validating:   2%|█▍                                                                     | 1/50 [00:00<00:06,  7.54it/s]\u001b[A\n",
      "Epoch 5:  76%|███████████████████████████▌        | 153/200 [00:19<00:05,  7.85it/s, loss=2.84, v_num=1, val_acc=0.255]\u001b[A\n",
      "Validating:   6%|████▎                                                                  | 3/50 [00:00<00:05,  8.14it/s]\u001b[A\n",
      "Validating:   8%|█████▋                                                                 | 4/50 [00:00<00:05,  7.85it/s]\u001b[A\n",
      "Epoch 5:  78%|████████████████████████████        | 156/200 [00:19<00:05,  7.86it/s, loss=2.84, v_num=1, val_acc=0.255]\u001b[A\n",
      "Validating:  12%|████████▌                                                              | 6/50 [00:00<00:05,  8.18it/s]\u001b[A\n",
      "Validating:  14%|█████████▉                                                             | 7/50 [00:00<00:05,  8.31it/s]\u001b[A\n"
     ]
    },
    {
     "name": "stdout",
     "output_type": "stream",
     "text": [
      "Epoch 5:  80%|████████████████████████████▌       | 159/200 [00:20<00:05,  7.87it/s, loss=2.84, v_num=1, val_acc=0.255]\u001b[A\n",
      "Validating:  18%|████████████▊                                                          | 9/50 [00:01<00:04,  8.74it/s]\u001b[A\n",
      "Validating:  20%|██████████████                                                        | 10/50 [00:01<00:04,  8.53it/s]\u001b[A\n",
      "Epoch 5:  81%|█████████████████████████████▏      | 162/200 [00:20<00:04,  7.89it/s, loss=2.84, v_num=1, val_acc=0.255]\u001b[A\n",
      "Validating:  24%|████████████████▊                                                     | 12/50 [00:01<00:04,  8.31it/s]\u001b[A\n",
      "Epoch 5:  82%|█████████████████████████████▋      | 165/200 [00:20<00:04,  7.90it/s, loss=2.84, v_num=1, val_acc=0.255]\u001b[A\n",
      "Validating:  30%|█████████████████████                                                 | 15/50 [00:01<00:04,  8.68it/s]\u001b[A\n",
      "Validating:  32%|██████████████████████▍                                               | 16/50 [00:01<00:03,  8.78it/s]\u001b[A\n",
      "Epoch 5:  84%|██████████████████████████████▏     | 168/200 [00:21<00:04,  7.91it/s, loss=2.84, v_num=1, val_acc=0.255]\u001b[A\n",
      "Validating:  36%|█████████████████████████▏                                            | 18/50 [00:02<00:03,  8.66it/s]\u001b[A\n",
      "Validating:  38%|██████████████████████████▌                                           | 19/50 [00:02<00:03,  8.37it/s]\u001b[A\n",
      "Epoch 5:  86%|██████████████████████████████▊     | 171/200 [00:21<00:03,  7.92it/s, loss=2.84, v_num=1, val_acc=0.255]\u001b[A\n",
      "Validating:  42%|█████████████████████████████▍                                        | 21/50 [00:02<00:03,  8.71it/s]\u001b[A\n",
      "Validating:  44%|██████████████████████████████▊                                       | 22/50 [00:02<00:03,  8.81it/s]\u001b[A\n",
      "Epoch 5:  87%|███████████████████████████████▎    | 174/200 [00:21<00:03,  7.93it/s, loss=2.84, v_num=1, val_acc=0.255]\u001b[A\n",
      "Validating:  48%|█████████████████████████████████▌                                    | 24/50 [00:02<00:03,  7.87it/s]\u001b[A\n",
      "Validating:  50%|███████████████████████████████████                                   | 25/50 [00:02<00:03,  8.28it/s]\u001b[A\n",
      "Epoch 5:  88%|███████████████████████████████▊    | 177/200 [00:22<00:02,  7.93it/s, loss=2.84, v_num=1, val_acc=0.255]\u001b[A\n",
      "Validating:  54%|█████████████████████████████████████▊                                | 27/50 [00:03<00:02,  8.69it/s]\u001b[A\n",
      "Validating:  56%|███████████████████████████████████████▏                              | 28/50 [00:03<00:02,  8.48it/s]\u001b[A\n",
      "Epoch 5:  90%|████████████████████████████████▍   | 180/200 [00:22<00:02,  7.95it/s, loss=2.84, v_num=1, val_acc=0.255]\u001b[A\n",
      "Validating:  60%|██████████████████████████████████████████                            | 30/50 [00:03<00:02,  8.85it/s]\u001b[A\n",
      "Validating:  62%|███████████████████████████████████████████▍                          | 31/50 [00:03<00:02,  8.46it/s]\u001b[A\n",
      "Epoch 5:  92%|████████████████████████████████▉   | 183/200 [00:23<00:02,  7.95it/s, loss=2.84, v_num=1, val_acc=0.255]\u001b[A\n",
      "Validating:  66%|██████████████████████████████████████████████▏                       | 33/50 [00:03<00:01,  8.52it/s]\u001b[A\n",
      "Validating:  68%|███████████████████████████████████████████████▌                      | 34/50 [00:04<00:01,  8.32it/s]\u001b[A\n",
      "Epoch 5:  93%|█████████████████████████████████▍  | 186/200 [00:23<00:01,  7.96it/s, loss=2.84, v_num=1, val_acc=0.255]\u001b[A\n",
      "Validating:  72%|██████████████████████████████████████████████████▍                   | 36/50 [00:04<00:01,  8.35it/s]\u001b[A\n",
      "Validating:  74%|███████████████████████████████████████████████████▊                  | 37/50 [00:04<00:01,  8.68it/s]\u001b[A\n",
      "Epoch 5:  94%|██████████████████████████████████  | 189/200 [00:23<00:01,  7.97it/s, loss=2.84, v_num=1, val_acc=0.255]\u001b[A\n",
      "Validating:  80%|████████████████████████████████████████████████████████              | 40/50 [00:04<00:01,  9.27it/s]\u001b[A\n",
      "Epoch 5:  96%|██████████████████████████████████▌ | 192/200 [00:24<00:01,  7.99it/s, loss=2.84, v_num=1, val_acc=0.255]\u001b[A\n",
      "Validating:  84%|██████████████████████████████████████████████████████████▊           | 42/50 [00:04<00:00,  8.87it/s]\u001b[A\n",
      "Validating:  86%|████████████████████████████████████████████████████████████▏         | 43/50 [00:05<00:00,  8.72it/s]\u001b[A\n",
      "Epoch 5:  98%|███████████████████████████████████ | 195/200 [00:24<00:00,  8.00it/s, loss=2.84, v_num=1, val_acc=0.255]\u001b[A\n",
      "Validating:  90%|███████████████████████████████████████████████████████████████       | 45/50 [00:05<00:00,  9.06it/s]\u001b[A\n",
      "Validating:  92%|████████████████████████████████████████████████████████████████▍     | 46/50 [00:05<00:00,  8.73it/s]\u001b[A\n",
      "Epoch 5:  99%|███████████████████████████████████▋| 198/200 [00:24<00:00,  8.01it/s, loss=2.84, v_num=1, val_acc=0.255]\u001b[A\n",
      "Validating:  96%|███████████████████████████████████████████████████████████████████▏  | 48/50 [00:05<00:00,  8.68it/s]\u001b[A\n",
      "Validating:  98%|████████████████████████████████████████████████████████████████████▌ | 49/50 [00:05<00:00,  8.82it/s]\u001b[A\n",
      "Epoch 5: 100%|████████████████████████████████████| 200/200 [00:25<00:00,  7.98it/s, loss=2.84, v_num=1, val_acc=0.183]\u001b[A\n",
      "Epoch 6:  75%|███████████████████████████         | 150/200 [00:19<00:06,  7.67it/s, loss=2.71, v_num=1, val_acc=0.183]\u001b[A\n",
      "Validating: 0it [00:00, ?it/s]\u001b[A\n",
      "Validating:   0%|                                                                               | 0/50 [00:00<?, ?it/s]\u001b[A\n",
      "Validating:   2%|█▍                                                                     | 1/50 [00:00<00:06,  7.98it/s]\u001b[A\n",
      "Epoch 6:  76%|███████████████████████████▌        | 153/200 [00:19<00:06,  7.70it/s, loss=2.71, v_num=1, val_acc=0.183]\u001b[A\n",
      "Validating:   6%|████▎                                                                  | 3/50 [00:00<00:07,  6.22it/s]\u001b[A\n",
      "Validating:   8%|█████▋                                                                 | 4/50 [00:00<00:07,  6.45it/s]\u001b[A\n",
      "Epoch 6:  78%|████████████████████████████        | 156/200 [00:20<00:05,  7.69it/s, loss=2.71, v_num=1, val_acc=0.183]\u001b[A\n",
      "Validating:  12%|████████▌                                                              | 6/50 [00:00<00:05,  7.57it/s]\u001b[A\n",
      "Validating:  14%|█████████▉                                                             | 7/50 [00:00<00:05,  8.09it/s]\u001b[A\n",
      "Epoch 6:  80%|████████████████████████████▌       | 159/200 [00:20<00:05,  7.70it/s, loss=2.71, v_num=1, val_acc=0.183]\u001b[A\n",
      "Validating:  18%|████████████▊                                                          | 9/50 [00:01<00:04,  8.21it/s]\u001b[A\n",
      "Validating:  20%|██████████████                                                        | 10/50 [00:01<00:04,  8.35it/s]\u001b[A\n",
      "Epoch 6:  81%|█████████████████████████████▏      | 162/200 [00:20<00:04,  7.72it/s, loss=2.71, v_num=1, val_acc=0.183]\u001b[A\n",
      "Validating:  24%|████████████████▊                                                     | 12/50 [00:01<00:04,  8.99it/s]\u001b[A\n",
      "Validating:  26%|██████████████████▏                                                   | 13/50 [00:01<00:04,  9.14it/s]\u001b[A\n",
      "Epoch 6:  82%|█████████████████████████████▋      | 165/200 [00:21<00:04,  7.75it/s, loss=2.71, v_num=1, val_acc=0.183]\u001b[A\n",
      "Validating:  30%|█████████████████████                                                 | 15/50 [00:01<00:04,  8.71it/s]\u001b[A\n",
      "Validating:  32%|██████████████████████▍                                               | 16/50 [00:01<00:03,  8.50it/s]\u001b[A\n",
      "Epoch 6:  84%|██████████████████████████████▏     | 168/200 [00:21<00:04,  7.76it/s, loss=2.71, v_num=1, val_acc=0.183]\u001b[A\n",
      "Validating:  36%|█████████████████████████▏                                            | 18/50 [00:02<00:03,  8.77it/s]\u001b[A\n",
      "Validating:  38%|██████████████████████████▌                                           | 19/50 [00:02<00:03,  8.57it/s]\u001b[A\n",
      "Epoch 6:  86%|██████████████████████████████▊     | 171/200 [00:22<00:03,  7.77it/s, loss=2.71, v_num=1, val_acc=0.183]\u001b[A\n",
      "Validating:  42%|█████████████████████████████▍                                        | 21/50 [00:02<00:03,  8.73it/s]\u001b[A\n",
      "Validating:  44%|██████████████████████████████▊                                       | 22/50 [00:02<00:03,  8.45it/s]\u001b[A\n",
      "Epoch 6:  87%|███████████████████████████████▎    | 174/200 [00:22<00:03,  7.78it/s, loss=2.71, v_num=1, val_acc=0.183]\u001b[A\n"
     ]
    },
    {
     "name": "stdout",
     "output_type": "stream",
     "text": [
      "Validating:  48%|█████████████████████████████████▌                                    | 24/50 [00:02<00:03,  8.48it/s]\u001b[A\n",
      "Validating:  50%|███████████████████████████████████                                   | 25/50 [00:03<00:03,  7.96it/s]\u001b[A\n",
      "Epoch 6:  88%|███████████████████████████████▊    | 177/200 [00:22<00:02,  7.78it/s, loss=2.71, v_num=1, val_acc=0.183]\u001b[A\n",
      "Validating:  54%|█████████████████████████████████████▊                                | 27/50 [00:03<00:03,  7.52it/s]\u001b[A\n",
      "Validating:  56%|███████████████████████████████████████▏                              | 28/50 [00:03<00:02,  8.05it/s]\u001b[A\n",
      "Epoch 6:  90%|████████████████████████████████▍   | 180/200 [00:23<00:02,  7.79it/s, loss=2.71, v_num=1, val_acc=0.183]\u001b[A\n",
      "Validating:  60%|██████████████████████████████████████████                            | 30/50 [00:03<00:02,  8.45it/s]\u001b[A\n",
      "Validating:  62%|███████████████████████████████████████████▍                          | 31/50 [00:03<00:02,  8.40it/s]\u001b[A\n",
      "Epoch 6:  92%|████████████████████████████████▉   | 183/200 [00:23<00:02,  7.80it/s, loss=2.71, v_num=1, val_acc=0.183]\u001b[A\n",
      "Validating:  66%|██████████████████████████████████████████████▏                       | 33/50 [00:04<00:01,  8.66it/s]\u001b[A\n",
      "Validating:  68%|███████████████████████████████████████████████▌                      | 34/50 [00:04<00:01,  8.59it/s]\u001b[A\n",
      "Epoch 6:  93%|█████████████████████████████████▍  | 186/200 [00:23<00:01,  7.81it/s, loss=2.71, v_num=1, val_acc=0.183]\u001b[A\n",
      "Validating:  72%|██████████████████████████████████████████████████▍                   | 36/50 [00:04<00:01,  8.69it/s]\u001b[A\n",
      "Validating:  74%|███████████████████████████████████████████████████▊                  | 37/50 [00:04<00:01,  8.30it/s]\u001b[A\n",
      "Epoch 6:  94%|██████████████████████████████████  | 189/200 [00:24<00:01,  7.82it/s, loss=2.71, v_num=1, val_acc=0.183]\u001b[A\n",
      "Validating:  78%|██████████████████████████████████████████████████████▌               | 39/50 [00:04<00:01,  8.33it/s]\u001b[A\n",
      "Validating:  80%|████████████████████████████████████████████████████████              | 40/50 [00:04<00:01,  8.35it/s]\u001b[A\n",
      "Epoch 6:  96%|██████████████████████████████████▌ | 192/200 [00:24<00:01,  7.83it/s, loss=2.71, v_num=1, val_acc=0.183]\u001b[A\n",
      "Validating:  84%|██████████████████████████████████████████████████████████▊           | 42/50 [00:05<00:00,  8.54it/s]\u001b[A\n",
      "Validating:  86%|████████████████████████████████████████████████████████████▏         | 43/50 [00:05<00:00,  8.69it/s]\u001b[A\n",
      "Epoch 6:  98%|███████████████████████████████████ | 195/200 [00:24<00:00,  7.84it/s, loss=2.71, v_num=1, val_acc=0.183]\u001b[A\n",
      "Validating:  90%|███████████████████████████████████████████████████████████████       | 45/50 [00:05<00:00,  8.42it/s]\u001b[A\n",
      "Validating:  92%|████████████████████████████████████████████████████████████████▍     | 46/50 [00:05<00:00,  8.35it/s]\u001b[A\n",
      "Epoch 6:  99%|███████████████████████████████████▋| 198/200 [00:25<00:00,  7.85it/s, loss=2.71, v_num=1, val_acc=0.183]\u001b[A\n",
      "Validating:  96%|███████████████████████████████████████████████████████████████████▏  | 48/50 [00:05<00:00,  8.32it/s]\u001b[A\n",
      "Validating:  98%|████████████████████████████████████████████████████████████████████▌ | 49/50 [00:05<00:00,  8.17it/s]\u001b[A\n",
      "Epoch 6: 100%|████████████████████████████████████| 200/200 [00:25<00:00,  7.81it/s, loss=2.71, v_num=1, val_acc=0.278]\u001b[A\n",
      "Epoch 7:  75%|███████████████████████████         | 150/200 [00:19<00:06,  7.58it/s, loss=2.72, v_num=1, val_acc=0.278]\u001b[A\n",
      "Validating: 0it [00:00, ?it/s]\u001b[A\n",
      "Validating:   0%|                                                                               | 0/50 [00:00<?, ?it/s]\u001b[A\n",
      "Validating:   2%|█▍                                                                     | 1/50 [00:00<00:05,  8.95it/s]\u001b[A\n",
      "Epoch 7:  76%|███████████████████████████▌        | 153/200 [00:20<00:06,  7.64it/s, loss=2.72, v_num=1, val_acc=0.278]\u001b[A\n",
      "Validating:   6%|████▎                                                                  | 3/50 [00:00<00:05,  8.51it/s]\u001b[A\n",
      "Validating:   8%|█████▋                                                                 | 4/50 [00:00<00:05,  8.45it/s]\u001b[A\n",
      "Epoch 7:  78%|████████████████████████████        | 156/200 [00:20<00:05,  7.65it/s, loss=2.72, v_num=1, val_acc=0.278]\u001b[A\n",
      "Validating:  12%|████████▌                                                              | 6/50 [00:00<00:05,  8.16it/s]\u001b[A\n",
      "Validating:  14%|█████████▉                                                             | 7/50 [00:00<00:05,  8.10it/s]\u001b[A\n",
      "Epoch 7:  80%|████████████████████████████▌       | 159/200 [00:20<00:05,  7.66it/s, loss=2.72, v_num=1, val_acc=0.278]\u001b[A\n",
      "Validating:  18%|████████████▊                                                          | 9/50 [00:01<00:04,  8.53it/s]\u001b[A\n",
      "Validating:  20%|██████████████                                                        | 10/50 [00:01<00:04,  8.74it/s]\u001b[A\n",
      "Epoch 7:  81%|█████████████████████████████▏      | 162/200 [00:21<00:04,  7.68it/s, loss=2.72, v_num=1, val_acc=0.278]\u001b[A\n",
      "Validating:  24%|████████████████▊                                                     | 12/50 [00:01<00:04,  8.50it/s]\u001b[A\n",
      "Validating:  26%|██████████████████▏                                                   | 13/50 [00:01<00:04,  8.65it/s]\u001b[A\n",
      "Epoch 7:  82%|█████████████████████████████▋      | 165/200 [00:21<00:04,  7.70it/s, loss=2.72, v_num=1, val_acc=0.278]\u001b[A\n",
      "Validating:  30%|█████████████████████                                                 | 15/50 [00:01<00:03,  8.91it/s]\u001b[A\n",
      "Validating:  32%|██████████████████████▍                                               | 16/50 [00:01<00:03,  8.96it/s]\u001b[A\n",
      "Epoch 7:  84%|██████████████████████████████▏     | 168/200 [00:21<00:04,  7.71it/s, loss=2.72, v_num=1, val_acc=0.278]\u001b[A\n",
      "Validating:  36%|█████████████████████████▏                                            | 18/50 [00:02<00:03,  8.62it/s]\u001b[A\n",
      "Validating:  38%|██████████████████████████▌                                           | 19/50 [00:02<00:03,  8.74it/s]\u001b[A\n",
      "Epoch 7:  86%|██████████████████████████████▊     | 171/200 [00:22<00:03,  7.73it/s, loss=2.72, v_num=1, val_acc=0.278]\u001b[A\n",
      "Validating:  42%|█████████████████████████████▍                                        | 21/50 [00:02<00:03,  8.83it/s]\u001b[A\n",
      "Validating:  44%|██████████████████████████████▊                                       | 22/50 [00:02<00:03,  9.09it/s]\u001b[A\n",
      "Epoch 7:  87%|███████████████████████████████▎    | 174/200 [00:22<00:03,  7.74it/s, loss=2.72, v_num=1, val_acc=0.278]\u001b[A\n",
      "Validating:  48%|█████████████████████████████████▌                                    | 24/50 [00:02<00:02,  8.87it/s]\u001b[A\n",
      "Validating:  50%|███████████████████████████████████                                   | 25/50 [00:02<00:02,  8.97it/s]\u001b[A\n",
      "Epoch 7:  88%|███████████████████████████████▊    | 177/200 [00:22<00:02,  7.77it/s, loss=2.72, v_num=1, val_acc=0.278]\u001b[A\n",
      "Validating:  54%|█████████████████████████████████████▊                                | 27/50 [00:03<00:02,  9.23it/s]\u001b[A\n",
      "Validating:  56%|███████████████████████████████████████▏                              | 28/50 [00:03<00:02,  9.09it/s]\u001b[A\n",
      "Epoch 7:  90%|████████████████████████████████▍   | 180/200 [00:23<00:02,  7.78it/s, loss=2.72, v_num=1, val_acc=0.278]\u001b[A\n",
      "Validating:  60%|██████████████████████████████████████████                            | 30/50 [00:03<00:02,  8.51it/s]\u001b[A\n",
      "Validating:  62%|███████████████████████████████████████████▍                          | 31/50 [00:03<00:02,  8.63it/s]\u001b[A\n",
      "Epoch 7:  92%|████████████████████████████████▉   | 183/200 [00:23<00:02,  7.80it/s, loss=2.72, v_num=1, val_acc=0.278]\u001b[A\n",
      "Validating:  66%|██████████████████████████████████████████████▏                       | 33/50 [00:03<00:01,  8.82it/s]\u001b[A\n",
      "Validating:  68%|███████████████████████████████████████████████▌                      | 34/50 [00:03<00:01,  8.46it/s]\u001b[A\n",
      "Epoch 7:  93%|█████████████████████████████████▍  | 186/200 [00:23<00:01,  7.81it/s, loss=2.72, v_num=1, val_acc=0.278]\u001b[A\n",
      "Validating:  72%|██████████████████████████████████████████████████▍                   | 36/50 [00:04<00:01,  8.73it/s]\u001b[A\n",
      "Validating:  74%|███████████████████████████████████████████████████▊                  | 37/50 [00:04<00:01,  8.91it/s]\u001b[A\n"
     ]
    },
    {
     "name": "stdout",
     "output_type": "stream",
     "text": [
      "Epoch 7:  94%|██████████████████████████████████  | 189/200 [00:24<00:01,  7.82it/s, loss=2.72, v_num=1, val_acc=0.278]\u001b[A\n",
      "Validating:  78%|██████████████████████████████████████████████████████▌               | 39/50 [00:04<00:01,  8.44it/s]\u001b[A\n",
      "Validating:  80%|████████████████████████████████████████████████████████              | 40/50 [00:04<00:01,  8.13it/s]\u001b[A\n",
      "Epoch 7:  96%|██████████████████████████████████▌ | 192/200 [00:24<00:01,  7.82it/s, loss=2.72, v_num=1, val_acc=0.278]\u001b[A\n",
      "Validating:  84%|██████████████████████████████████████████████████████████▊           | 42/50 [00:04<00:01,  7.96it/s]\u001b[A\n",
      "Epoch 7:  98%|███████████████████████████████████ | 195/200 [00:24<00:00,  7.83it/s, loss=2.72, v_num=1, val_acc=0.278]\u001b[A\n",
      "Validating:  90%|███████████████████████████████████████████████████████████████       | 45/50 [00:05<00:00,  8.51it/s]\u001b[A\n",
      "Validating:  92%|████████████████████████████████████████████████████████████████▍     | 46/50 [00:05<00:00,  8.59it/s]\u001b[A\n",
      "Epoch 7:  99%|███████████████████████████████████▋| 198/200 [00:25<00:00,  7.85it/s, loss=2.72, v_num=1, val_acc=0.278]\u001b[A\n",
      "Validating:  96%|███████████████████████████████████████████████████████████████████▏  | 48/50 [00:05<00:00,  8.50it/s]\u001b[A\n",
      "Validating:  98%|████████████████████████████████████████████████████████████████████▌ | 49/50 [00:05<00:00,  8.66it/s]\u001b[A\n",
      "Epoch 7: 100%|████████████████████████████████████| 200/200 [00:25<00:00,  7.82it/s, loss=2.72, v_num=1, val_acc=0.303]\u001b[A\n",
      "Epoch 8:  75%|███████████████████████████         | 150/200 [00:19<00:06,  7.67it/s, loss=2.52, v_num=1, val_acc=0.303]\u001b[A\n",
      "Validating: 0it [00:00, ?it/s]\u001b[A\n",
      "Validating:   0%|                                                                               | 0/50 [00:00<?, ?it/s]\u001b[A\n",
      "Validating:   2%|█▍                                                                     | 1/50 [00:00<00:05,  9.12it/s]\u001b[A\n",
      "Epoch 8:  76%|███████████████████████████▌        | 153/200 [00:19<00:06,  7.72it/s, loss=2.52, v_num=1, val_acc=0.303]\u001b[A\n",
      "Validating:   6%|████▎                                                                  | 3/50 [00:00<00:05,  9.13it/s]\u001b[A\n",
      "Validating:   8%|█████▋                                                                 | 4/50 [00:00<00:04,  9.26it/s]\u001b[A\n",
      "Epoch 8:  78%|████████████████████████████        | 156/200 [00:20<00:05,  7.74it/s, loss=2.52, v_num=1, val_acc=0.303]\u001b[A\n",
      "Validating:  12%|████████▌                                                              | 6/50 [00:00<00:04,  9.16it/s]\u001b[A\n",
      "Validating:  14%|█████████▉                                                             | 7/50 [00:00<00:05,  8.40it/s]\u001b[A\n",
      "Epoch 8:  80%|████████████████████████████▌       | 159/200 [00:20<00:05,  7.76it/s, loss=2.52, v_num=1, val_acc=0.303]\u001b[A\n",
      "Validating:  18%|████████████▊                                                          | 9/50 [00:01<00:04,  8.39it/s]\u001b[A\n",
      "Validating:  20%|██████████████                                                        | 10/50 [00:01<00:04,  8.08it/s]\u001b[A\n",
      "Epoch 8:  81%|█████████████████████████████▏      | 162/200 [00:20<00:04,  7.76it/s, loss=2.52, v_num=1, val_acc=0.303]\u001b[A\n",
      "Validating:  24%|████████████████▊                                                     | 12/50 [00:01<00:04,  8.53it/s]\u001b[A\n",
      "Validating:  26%|██████████████████▏                                                   | 13/50 [00:01<00:04,  8.79it/s]\u001b[A\n",
      "Epoch 8:  82%|█████████████████████████████▋      | 165/200 [00:21<00:04,  7.78it/s, loss=2.52, v_num=1, val_acc=0.303]\u001b[A\n",
      "Validating:  30%|█████████████████████                                                 | 15/50 [00:01<00:04,  8.67it/s]\u001b[A\n",
      "Epoch 8:  84%|██████████████████████████████▏     | 168/200 [00:21<00:04,  7.80it/s, loss=2.52, v_num=1, val_acc=0.303]\u001b[A\n",
      "Validating:  36%|█████████████████████████▏                                            | 18/50 [00:02<00:03,  8.97it/s]\u001b[A\n",
      "Validating:  38%|██████████████████████████▌                                           | 19/50 [00:02<00:03,  8.79it/s]\u001b[A\n",
      "Epoch 8:  86%|██████████████████████████████▊     | 171/200 [00:21<00:03,  7.81it/s, loss=2.52, v_num=1, val_acc=0.303]\u001b[A\n",
      "Validating:  42%|█████████████████████████████▍                                        | 21/50 [00:02<00:03,  8.46it/s]\u001b[A\n",
      "Validating:  44%|██████████████████████████████▊                                       | 22/50 [00:02<00:03,  8.25it/s]\u001b[A\n",
      "Epoch 8:  87%|███████████████████████████████▎    | 174/200 [00:22<00:03,  7.82it/s, loss=2.52, v_num=1, val_acc=0.303]\u001b[A\n",
      "Validating:  48%|█████████████████████████████████▌                                    | 24/50 [00:02<00:03,  8.41it/s]\u001b[A\n",
      "Epoch 8:  88%|███████████████████████████████▊    | 177/200 [00:22<00:02,  7.84it/s, loss=2.52, v_num=1, val_acc=0.303]\u001b[A\n",
      "Validating:  54%|█████████████████████████████████████▊                                | 27/50 [00:03<00:02,  8.86it/s]\u001b[A\n",
      "Validating:  56%|███████████████████████████████████████▏                              | 28/50 [00:03<00:02,  8.57it/s]\u001b[A\n",
      "Epoch 8:  90%|████████████████████████████████▍   | 180/200 [00:22<00:02,  7.85it/s, loss=2.52, v_num=1, val_acc=0.303]\u001b[A\n",
      "Validating:  60%|██████████████████████████████████████████                            | 30/50 [00:03<00:02,  8.52it/s]\u001b[A\n",
      "Validating:  62%|███████████████████████████████████████████▍                          | 31/50 [00:03<00:02,  8.55it/s]\u001b[A\n",
      "Epoch 8:  92%|████████████████████████████████▉   | 183/200 [00:23<00:02,  7.86it/s, loss=2.52, v_num=1, val_acc=0.303]\u001b[A\n",
      "Validating:  66%|██████████████████████████████████████████████▏                       | 33/50 [00:03<00:01,  8.62it/s]\u001b[A\n",
      "Validating:  68%|███████████████████████████████████████████████▌                      | 34/50 [00:03<00:01,  8.33it/s]\u001b[A\n",
      "Epoch 8:  93%|█████████████████████████████████▍  | 186/200 [00:23<00:01,  7.87it/s, loss=2.52, v_num=1, val_acc=0.303]\u001b[A\n",
      "Validating:  72%|██████████████████████████████████████████████████▍                   | 36/50 [00:04<00:01,  8.64it/s]\u001b[A\n",
      "Validating:  74%|███████████████████████████████████████████████████▊                  | 37/50 [00:04<00:01,  8.68it/s]\u001b[A\n",
      "Epoch 8:  94%|██████████████████████████████████  | 189/200 [00:23<00:01,  7.88it/s, loss=2.52, v_num=1, val_acc=0.303]\u001b[A\n",
      "Validating:  78%|██████████████████████████████████████████████████████▌               | 39/50 [00:04<00:01,  8.60it/s]\u001b[A\n",
      "Epoch 8:  96%|██████████████████████████████████▌ | 192/200 [00:24<00:01,  7.90it/s, loss=2.52, v_num=1, val_acc=0.303]\u001b[A\n",
      "Validating:  84%|██████████████████████████████████████████████████████████▊           | 42/50 [00:04<00:00,  9.18it/s]\u001b[A\n",
      "Validating:  86%|████████████████████████████████████████████████████████████▏         | 43/50 [00:04<00:00,  8.86it/s]\u001b[A\n",
      "Epoch 8:  98%|███████████████████████████████████ | 195/200 [00:24<00:00,  7.91it/s, loss=2.52, v_num=1, val_acc=0.303]\u001b[A\n",
      "Validating:  90%|███████████████████████████████████████████████████████████████       | 45/50 [00:05<00:00,  8.38it/s]\u001b[A\n",
      "Validating:  92%|████████████████████████████████████████████████████████████████▍     | 46/50 [00:05<00:00,  8.38it/s]\u001b[A\n",
      "Epoch 8:  99%|███████████████████████████████████▋| 198/200 [00:25<00:00,  7.91it/s, loss=2.52, v_num=1, val_acc=0.303]\u001b[A\n",
      "Validating:  96%|███████████████████████████████████████████████████████████████████▏  | 48/50 [00:05<00:00,  8.55it/s]\u001b[A\n",
      "Epoch 8: 100%|████████████████████████████████████| 200/200 [00:25<00:00,  7.89it/s, loss=2.52, v_num=1, val_acc=0.245]\u001b[A\n",
      "Epoch 9:  75%|███████████████████████████         | 150/200 [00:19<00:06,  7.71it/s, loss=2.48, v_num=1, val_acc=0.245]\u001b[A\n",
      "Validating: 0it [00:00, ?it/s]\u001b[A\n",
      "Validating:   0%|                                                                               | 0/50 [00:00<?, ?it/s]\u001b[A\n",
      "Validating:   2%|█▍                                                                     | 1/50 [00:00<00:06,  7.46it/s]\u001b[A\n",
      "Epoch 9:  76%|███████████████████████████▌        | 153/200 [00:19<00:06,  7.75it/s, loss=2.48, v_num=1, val_acc=0.245]\u001b[A\n",
      "Validating:   6%|████▎                                                                  | 3/50 [00:00<00:05,  8.28it/s]\u001b[A\n",
      "Validating:   8%|█████▋                                                                 | 4/50 [00:00<00:05,  8.46it/s]\u001b[A\n"
     ]
    },
    {
     "name": "stdout",
     "output_type": "stream",
     "text": [
      "Epoch 9:  78%|████████████████████████████        | 156/200 [00:20<00:05,  7.77it/s, loss=2.48, v_num=1, val_acc=0.245]\u001b[A\n",
      "Validating:  12%|████████▌                                                              | 6/50 [00:00<00:05,  8.69it/s]\u001b[A\n",
      "Validating:  14%|█████████▉                                                             | 7/50 [00:00<00:04,  8.75it/s]\u001b[A\n",
      "Epoch 9:  80%|████████████████████████████▌       | 159/200 [00:20<00:05,  7.79it/s, loss=2.48, v_num=1, val_acc=0.245]\u001b[A\n",
      "Validating:  18%|████████████▊                                                          | 9/50 [00:01<00:04,  8.97it/s]\u001b[A\n",
      "Validating:  20%|██████████████                                                        | 10/50 [00:01<00:04,  8.78it/s]\u001b[A\n",
      "Epoch 9:  81%|█████████████████████████████▏      | 162/200 [00:20<00:04,  7.81it/s, loss=2.48, v_num=1, val_acc=0.245]\u001b[A\n",
      "Validating:  24%|████████████████▊                                                     | 12/50 [00:01<00:04,  8.99it/s]\u001b[A\n",
      "Validating:  26%|██████████████████▏                                                   | 13/50 [00:01<00:04,  8.25it/s]\u001b[A\n",
      "Epoch 9:  82%|█████████████████████████████▋      | 165/200 [00:21<00:04,  7.81it/s, loss=2.48, v_num=1, val_acc=0.245]\u001b[A\n",
      "Validating:  30%|█████████████████████                                                 | 15/50 [00:01<00:04,  8.08it/s]\u001b[A\n",
      "Validating:  32%|██████████████████████▍                                               | 16/50 [00:01<00:04,  8.00it/s]\u001b[A\n",
      "Epoch 9:  84%|██████████████████████████████▏     | 168/200 [00:21<00:04,  7.82it/s, loss=2.48, v_num=1, val_acc=0.245]\u001b[A\n",
      "Validating:  36%|█████████████████████████▏                                            | 18/50 [00:02<00:03,  8.39it/s]\u001b[A\n",
      "Validating:  38%|██████████████████████████▌                                           | 19/50 [00:02<00:03,  8.42it/s]\u001b[A\n",
      "Epoch 9:  86%|██████████████████████████████▊     | 171/200 [00:21<00:03,  7.83it/s, loss=2.48, v_num=1, val_acc=0.245]\u001b[A\n",
      "Validating:  42%|█████████████████████████████▍                                        | 21/50 [00:02<00:03,  8.70it/s]\u001b[A\n",
      "Validating:  44%|██████████████████████████████▊                                       | 22/50 [00:02<00:03,  8.56it/s]\u001b[A\n",
      "Epoch 9:  87%|███████████████████████████████▎    | 174/200 [00:22<00:03,  7.84it/s, loss=2.48, v_num=1, val_acc=0.245]\u001b[A\n",
      "Validating:  48%|█████████████████████████████████▌                                    | 24/50 [00:02<00:03,  8.49it/s]\u001b[A\n",
      "Validating:  50%|███████████████████████████████████                                   | 25/50 [00:02<00:02,  8.34it/s]\u001b[A\n",
      "Epoch 9:  88%|███████████████████████████████▊    | 177/200 [00:22<00:02,  7.85it/s, loss=2.48, v_num=1, val_acc=0.245]\u001b[A\n",
      "Validating:  54%|█████████████████████████████████████▊                                | 27/50 [00:03<00:02,  8.56it/s]\u001b[A\n",
      "Epoch 9:  90%|████████████████████████████████▍   | 180/200 [00:22<00:02,  7.87it/s, loss=2.48, v_num=1, val_acc=0.245]\u001b[A\n",
      "Validating:  60%|██████████████████████████████████████████                            | 30/50 [00:03<00:02,  9.32it/s]\u001b[A\n",
      "Validating:  62%|███████████████████████████████████████████▍                          | 31/50 [00:03<00:02,  9.10it/s]\u001b[A\n",
      "Epoch 9:  92%|████████████████████████████████▉   | 183/200 [00:23<00:02,  7.89it/s, loss=2.48, v_num=1, val_acc=0.245]\u001b[A\n",
      "Validating:  66%|██████████████████████████████████████████████▏                       | 33/50 [00:03<00:01,  8.90it/s]\u001b[A\n",
      "Validating:  68%|███████████████████████████████████████████████▌                      | 34/50 [00:03<00:01,  8.69it/s]\u001b[A\n",
      "Epoch 9:  93%|█████████████████████████████████▍  | 186/200 [00:23<00:01,  7.90it/s, loss=2.48, v_num=1, val_acc=0.245]\u001b[A\n",
      "Validating:  72%|██████████████████████████████████████████████████▍                   | 36/50 [00:04<00:01,  8.68it/s]\u001b[A\n",
      "Validating:  74%|███████████████████████████████████████████████████▊                  | 37/50 [00:04<00:01,  8.41it/s]\u001b[A\n",
      "Epoch 9:  94%|██████████████████████████████████  | 189/200 [00:23<00:01,  7.90it/s, loss=2.48, v_num=1, val_acc=0.245]\u001b[A\n",
      "Validating:  78%|██████████████████████████████████████████████████████▌               | 39/50 [00:04<00:01,  8.38it/s]\u001b[A\n",
      "Validating:  80%|████████████████████████████████████████████████████████              | 40/50 [00:04<00:01,  8.74it/s]\u001b[A\n",
      "Epoch 9:  96%|██████████████████████████████████▌ | 192/200 [00:24<00:01,  7.92it/s, loss=2.48, v_num=1, val_acc=0.245]\u001b[A\n",
      "Validating:  84%|██████████████████████████████████████████████████████████▊           | 42/50 [00:04<00:00,  8.69it/s]\u001b[A\n",
      "Validating:  86%|████████████████████████████████████████████████████████████▏         | 43/50 [00:04<00:00,  8.85it/s]\u001b[A\n",
      "Epoch 9:  98%|███████████████████████████████████ | 195/200 [00:24<00:00,  7.93it/s, loss=2.48, v_num=1, val_acc=0.245]\u001b[A\n",
      "Validating:  90%|███████████████████████████████████████████████████████████████       | 45/50 [00:05<00:00,  8.83it/s]\u001b[A\n",
      "Validating:  92%|████████████████████████████████████████████████████████████████▍     | 46/50 [00:05<00:00,  9.13it/s]\u001b[A\n",
      "Epoch 9:  99%|███████████████████████████████████▋| 198/200 [00:24<00:00,  7.95it/s, loss=2.48, v_num=1, val_acc=0.245]\u001b[A\n",
      "Validating:  96%|███████████████████████████████████████████████████████████████████▏  | 48/50 [00:05<00:00,  8.62it/s]\u001b[A\n",
      "Validating:  98%|████████████████████████████████████████████████████████████████████▌ | 49/50 [00:05<00:00,  8.42it/s]\u001b[A\n",
      "Epoch 9: 100%|████████████████████████████████████| 200/200 [00:25<00:00,  7.91it/s, loss=2.48, v_num=1, val_acc=0.325]\u001b[A\n",
      "Epoch 9: 100%|████████████████████████████████████| 200/200 [00:25<00:00,  7.91it/s, loss=2.48, v_num=1, val_acc=0.325]\u001b[A\n"
     ]
    }
   ],
   "source": [
    "trainer.fit(audionet, train_loader, val_loader)"
   ]
  },
  {
   "cell_type": "code",
   "execution_count": 38,
   "id": "a34f5f78",
   "metadata": {},
   "outputs": [
    {
     "name": "stderr",
     "output_type": "stream",
     "text": [
      "LOCAL_RANK: 0 - CUDA_VISIBLE_DEVICES: [0]\n"
     ]
    },
    {
     "name": "stdout",
     "output_type": "stream",
     "text": [
      "Testing: 100%|█████████████████████████████████████████████████████████████████████████| 50/50 [00:05<00:00,  9.18it/s]\n",
      "--------------------------------------------------------------------------------\n",
      "DATALOADER:0 TEST RESULTS\n",
      "{'test_acc': 0.3100000023841858}\n",
      "--------------------------------------------------------------------------------\n"
     ]
    },
    {
     "data": {
      "text/plain": [
       "[{'test_acc': 0.3100000023841858}]"
      ]
     },
     "execution_count": 38,
     "metadata": {},
     "output_type": "execute_result"
    }
   ],
   "source": [
    "# TODO: implement the test loop.\n",
    "trainer.test(audionet, test_loader)"
   ]
  }
 ],
 "metadata": {
  "kernelspec": {
   "display_name": "Python [conda env:reprodl]",
   "language": "python",
   "name": "conda-env-reprodl-py"
  },
  "language_info": {
   "codemirror_mode": {
    "name": "ipython",
    "version": 3
   },
   "file_extension": ".py",
   "mimetype": "text/x-python",
   "name": "python",
   "nbconvert_exporter": "python",
   "pygments_lexer": "ipython3",
   "version": "3.9.4"
  }
 },
 "nbformat": 4,
 "nbformat_minor": 5
}
